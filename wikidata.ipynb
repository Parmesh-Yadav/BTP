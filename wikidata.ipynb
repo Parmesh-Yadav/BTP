{
 "cells": [
  {
   "cell_type": "code",
   "execution_count": 6,
   "metadata": {},
   "outputs": [],
   "source": [
    "#Import the wikidata module\n",
    "import requests"
   ]
  },
  {
   "cell_type": "code",
   "execution_count": 10,
   "metadata": {},
   "outputs": [
    {
     "data": {
      "text/plain": [
       "{'searchinfo': {'search': 'hearsay'},\n",
       " 'search': [{'id': 'Q1211464',\n",
       "   'title': 'Q1211464',\n",
       "   'pageid': 1153399,\n",
       "   'display': {'label': {'value': 'hearsay', 'language': 'en'},\n",
       "    'description': {'value': 'legal term', 'language': 'en'}},\n",
       "   'repository': 'wikidata',\n",
       "   'url': '//www.wikidata.org/wiki/Q1211464',\n",
       "   'concepturi': 'http://www.wikidata.org/entity/Q1211464',\n",
       "   'label': 'hearsay',\n",
       "   'description': 'legal term',\n",
       "   'match': {'type': 'label', 'language': 'en', 'text': 'hearsay'}},\n",
       "  {'id': 'Q5691697',\n",
       "   'title': 'Q5691697',\n",
       "   'pageid': 5454989,\n",
       "   'display': {'label': {'value': 'Hearsay', 'language': 'en'},\n",
       "    'description': {'value': \"album by Alexander O'Neal\", 'language': 'en'}},\n",
       "   'repository': 'wikidata',\n",
       "   'url': '//www.wikidata.org/wiki/Q5691697',\n",
       "   'concepturi': 'http://www.wikidata.org/entity/Q5691697',\n",
       "   'label': 'Hearsay',\n",
       "   'description': \"album by Alexander O'Neal\",\n",
       "   'match': {'type': 'label', 'language': 'en', 'text': 'Hearsay'}},\n",
       "  {'id': 'Q5691700',\n",
       "   'title': 'Q5691700',\n",
       "   'pageid': 5454992,\n",
       "   'display': {'label': {'value': 'Hearsay', 'language': 'en'},\n",
       "    'description': {'value': \"song written by Jimmy Jam and Terry Lewis and recorded by Alexander O'Neal\",\n",
       "     'language': 'en'}},\n",
       "   'repository': 'wikidata',\n",
       "   'url': '//www.wikidata.org/wiki/Q5691700',\n",
       "   'concepturi': 'http://www.wikidata.org/entity/Q5691700',\n",
       "   'label': 'Hearsay',\n",
       "   'description': \"song written by Jimmy Jam and Terry Lewis and recorded by Alexander O'Neal\",\n",
       "   'match': {'type': 'label', 'language': 'en', 'text': 'Hearsay'}},\n",
       "  {'id': 'Q29826979',\n",
       "   'title': 'Q29826979',\n",
       "   'pageid': 31463292,\n",
       "   'display': {'label': {'value': 'Forkhead box i1', 'language': 'en'},\n",
       "    'description': {'value': 'Protein found in Danio rerio',\n",
       "     'language': 'en'}},\n",
       "   'repository': 'wikidata',\n",
       "   'url': '//www.wikidata.org/wiki/Q29826979',\n",
       "   'concepturi': 'http://www.wikidata.org/entity/Q29826979',\n",
       "   'label': 'Forkhead box i1',\n",
       "   'description': 'Protein found in Danio rerio',\n",
       "   'match': {'type': 'alias', 'language': 'en', 'text': 'hearsay'},\n",
       "   'aliases': ['hearsay']},\n",
       "  {'id': 'Q101361734',\n",
       "   'title': 'Q101361734',\n",
       "   'pageid': 98718911,\n",
       "   'display': {'label': {'value': 'HearSay with Cathy Lewis',\n",
       "     'language': 'en'},\n",
       "    'description': {'value': 'podcast from WHRV', 'language': 'en'}},\n",
       "   'repository': 'wikidata',\n",
       "   'url': '//www.wikidata.org/wiki/Q101361734',\n",
       "   'concepturi': 'http://www.wikidata.org/entity/Q101361734',\n",
       "   'label': 'HearSay with Cathy Lewis',\n",
       "   'description': 'podcast from WHRV',\n",
       "   'match': {'type': 'label',\n",
       "    'language': 'en',\n",
       "    'text': 'HearSay with Cathy Lewis'}},\n",
       "  {'id': 'Q17164755',\n",
       "   'title': 'Q17164755',\n",
       "   'pageid': 18757698,\n",
       "   'display': {'label': {'value': 'Hearsay in United States law',\n",
       "     'language': 'en'}},\n",
       "   'repository': 'wikidata',\n",
       "   'url': '//www.wikidata.org/wiki/Q17164755',\n",
       "   'concepturi': 'http://www.wikidata.org/entity/Q17164755',\n",
       "   'label': 'Hearsay in United States law',\n",
       "   'match': {'type': 'label',\n",
       "    'language': 'en',\n",
       "    'text': 'Hearsay in United States law'}},\n",
       "  {'id': 'Q16841968',\n",
       "   'title': 'Q16841968',\n",
       "   'pageid': 18445603,\n",
       "   'display': {'label': {'value': 'Hearsay in English law', 'language': 'en'},\n",
       "    'description': {'value': 'legal term', 'language': 'en'}},\n",
       "   'repository': 'wikidata',\n",
       "   'url': '//www.wikidata.org/wiki/Q16841968',\n",
       "   'concepturi': 'http://www.wikidata.org/entity/Q16841968',\n",
       "   'label': 'Hearsay in English law',\n",
       "   'description': 'legal term',\n",
       "   'match': {'type': 'label',\n",
       "    'language': 'en',\n",
       "    'text': 'Hearsay in English law'}}],\n",
       " 'search-continue': 7,\n",
       " 'success': 1}"
      ]
     },
     "execution_count": 10,
     "metadata": {},
     "output_type": "execute_result"
    }
   ],
   "source": [
    "url = \"https://www.wikidata.org/w/api.php\"\n",
    "query = \"hearsay\"\n",
    "params = {\n",
    "    \"action\": \"wbsearchentities\",\n",
    "    \"format\": \"json\",\n",
    "    \"language\": \"en\",\n",
    "    \"search\": query\n",
    "}\n",
    "data = requests.get(url,params=params)\n",
    "#print output in json\n",
    "data.json()"
   ]
  },
  {
   "cell_type": "code",
   "execution_count": 11,
   "metadata": {},
   "outputs": [
    {
     "name": "stdout",
     "output_type": "stream",
     "text": [
      "legal term\n"
     ]
    }
   ],
   "source": [
    "#get description\n",
    "print(data.json()['search'][0]['description'])"
   ]
  }
 ],
 "metadata": {
  "kernelspec": {
   "display_name": "Python 3",
   "language": "python",
   "name": "python3"
  },
  "language_info": {
   "codemirror_mode": {
    "name": "ipython",
    "version": 3
   },
   "file_extension": ".py",
   "mimetype": "text/x-python",
   "name": "python",
   "nbconvert_exporter": "python",
   "pygments_lexer": "ipython3",
   "version": "3.10.6"
  }
 },
 "nbformat": 4,
 "nbformat_minor": 2
}
