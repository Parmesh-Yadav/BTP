{
 "cells": [
  {
   "cell_type": "markdown",
   "metadata": {},
   "source": [
    "# Imports"
   ]
  },
  {
   "cell_type": "code",
   "execution_count": 1,
   "metadata": {},
   "outputs": [
    {
     "name": "stderr",
     "output_type": "stream",
     "text": [
      "/home/ojasva20318/.local/lib/python3.8/site-packages/tqdm/auto.py:21: TqdmWarning: IProgress not found. Please update jupyter and ipywidgets. See https://ipywidgets.readthedocs.io/en/stable/user_install.html\n",
      "  from .autonotebook import tqdm as notebook_tqdm\n",
      "2024-04-30 05:19:06.832617: I tensorflow/core/platform/cpu_feature_guard.cc:182] This TensorFlow binary is optimized to use available CPU instructions in performance-critical operations.\n",
      "To enable the following instructions: AVX2 FMA, in other operations, rebuild TensorFlow with the appropriate compiler flags.\n",
      "2024-04-30 05:19:07.965254: W tensorflow/compiler/tf2tensorrt/utils/py_utils.cc:38] TF-TRT Warning: Could not find TensorRT\n",
      "[nltk_data] Downloading package stopwords to\n",
      "[nltk_data]     /home/ojasva20318/nltk_data...\n",
      "[nltk_data]   Package stopwords is already up-to-date!\n"
     ]
    },
    {
     "data": {
      "text/plain": [
       "True"
      ]
     },
     "execution_count": 1,
     "metadata": {},
     "output_type": "execute_result"
    }
   ],
   "source": [
    "import datasets\n",
    "from bs4 import BeautifulSoup\n",
    "import pandas as pd\n",
    "from transformers import AutoModelForCausalLM, AutoTokenizer, pipeline\n",
    "import torch\n",
    "import re\n",
    "from evaluation import evaluate\n",
    "import nltk\n",
    "nltk.download('stopwords')"
   ]
  },
  {
   "cell_type": "markdown",
   "metadata": {},
   "source": [
    "# Constants"
   ]
  },
  {
   "cell_type": "code",
   "execution_count": 2,
   "metadata": {},
   "outputs": [],
   "source": [
    "PATH_TO_OWL = './LMSS.owl'\n",
    "LLM_PATH = '../open-llama-7b-open-instruct'"
   ]
  },
  {
   "cell_type": "markdown",
   "metadata": {},
   "source": [
    "# Set up Llama"
   ]
  },
  {
   "cell_type": "code",
   "execution_count": 3,
   "metadata": {},
   "outputs": [
    {
     "name": "stderr",
     "output_type": "stream",
     "text": [
      "Loading checkpoint shards: 100%|██████████| 3/3 [01:03<00:00, 21.31s/it]\n"
     ]
    }
   ],
   "source": [
    "tokenizer = AutoTokenizer.from_pretrained(LLM_PATH, use_fast=False)\n",
    "\n",
    "model = AutoModelForCausalLM.from_pretrained(LLM_PATH, torch_dtype=torch.float16, device_map='sequential')"
   ]
  },
  {
   "cell_type": "code",
   "execution_count": 69,
   "metadata": {},
   "outputs": [],
   "source": [
    "def get_llama_response(input_text, tokenizer, model):\n",
    "    input_ids = tokenizer(input_text, return_tensors=\"pt\").input_ids.to(\"cuda\")\n",
    "    output1 = model.generate(input_ids, max_length=4096)\n",
    "    input_length = input_ids.shape[1]\n",
    "    output1 = output1[:, input_length:]\n",
    "    output_text = tokenizer.decode(output1[0])\n",
    "    return output_text"
   ]
  },
  {
   "cell_type": "code",
   "execution_count": 5,
   "metadata": {},
   "outputs": [
    {
     "name": "stdout",
     "output_type": "stream",
     "text": [
      "Below is an instruction that describes a task. Write a response that appropriately completes the request.\n",
      "\n",
      "### Instruction:\n",
      "Is the following statement hearsay.\n",
      "Statement: I heard him talking to her using bad language.\n",
      "Response should start with the word Yes/No followed by reasoning for the answer\n",
      "\n",
      "### Response:\n",
      " Yes. It is hearsay because it is not being directly stated by the person who witnessed the event.</s>\n"
     ]
    }
   ],
   "source": [
    "#example\n",
    "prompt_template = \"Below is an instruction that describes a task. Write a response that appropriately completes the request.\\n\\n### Instruction:\\n{instruction}\\n\\n### Response:\"\n",
    "\n",
    "prompt = 'Is the following statement hearsay.\\nStatement: I heard him talking to her using bad language.\\nResponse should start with the word Yes/No followed by reasoning for the answer'\n",
    "\n",
    "\n",
    "inputt = prompt_template.format(instruction= prompt)\n",
    "\n",
    "print(inputt)\n",
    "answer = get_llama_response(inputt,tokenizer,model)\n",
    "print(answer)"
   ]
  },
  {
   "cell_type": "markdown",
   "metadata": {},
   "source": [
    "# Reading OWL"
   ]
  },
  {
   "cell_type": "code",
   "execution_count": 6,
   "metadata": {},
   "outputs": [],
   "source": [
    "# Read the contents of the .owl file\n",
    "with open(PATH_TO_OWL, \"r\") as owl_file:\n",
    "    owl_data = owl_file.read()\n",
    "\n",
    "# Parse the OWL data using BeautifulSoup\n",
    "soup = BeautifulSoup(owl_data, 'xml')"
   ]
  },
  {
   "cell_type": "code",
   "execution_count": 7,
   "metadata": {},
   "outputs": [
    {
     "data": {
      "text/html": [
       "<div>\n",
       "<style scoped>\n",
       "    .dataframe tbody tr th:only-of-type {\n",
       "        vertical-align: middle;\n",
       "    }\n",
       "\n",
       "    .dataframe tbody tr th {\n",
       "        vertical-align: top;\n",
       "    }\n",
       "\n",
       "    .dataframe thead th {\n",
       "        text-align: right;\n",
       "    }\n",
       "</style>\n",
       "<table border=\"1\" class=\"dataframe\">\n",
       "  <thead>\n",
       "    <tr style=\"text-align: right;\">\n",
       "      <th></th>\n",
       "      <th>Label</th>\n",
       "      <th>Definition</th>\n",
       "    </tr>\n",
       "  </thead>\n",
       "  <tbody>\n",
       "    <tr>\n",
       "      <th>0</th>\n",
       "      <td>Other Personal and Household Goods Repair and ...</td>\n",
       "      <td>See industry description for 811490.</td>\n",
       "    </tr>\n",
       "    <tr>\n",
       "      <th>1</th>\n",
       "      <td>Other Converted Paper Product Manufacturing</td>\n",
       "      <td>This industry comprises establishments primari...</td>\n",
       "    </tr>\n",
       "    <tr>\n",
       "      <th>2</th>\n",
       "      <td>General Medical and Surgical Hospitals</td>\n",
       "      <td>NULL</td>\n",
       "    </tr>\n",
       "    <tr>\n",
       "      <th>3</th>\n",
       "      <td>Confectionery Merchant Wholesalers</td>\n",
       "      <td>This industry comprises establishments primari...</td>\n",
       "    </tr>\n",
       "    <tr>\n",
       "      <th>4</th>\n",
       "      <td>Other Specialized Design Services</td>\n",
       "      <td>See industry description for 541490.</td>\n",
       "    </tr>\n",
       "    <tr>\n",
       "      <th>...</th>\n",
       "      <td>...</td>\n",
       "      <td>...</td>\n",
       "    </tr>\n",
       "    <tr>\n",
       "      <th>14248</th>\n",
       "      <td>Vocational Rehabilitation Services</td>\n",
       "      <td>NULL</td>\n",
       "    </tr>\n",
       "    <tr>\n",
       "      <th>14249</th>\n",
       "      <td>Books Printing</td>\n",
       "      <td>This U.S. industry comprises establishments pr...</td>\n",
       "    </tr>\n",
       "    <tr>\n",
       "      <th>14250</th>\n",
       "      <td>Petrochemical Manufacturing</td>\n",
       "      <td>See industry description for 325110.</td>\n",
       "    </tr>\n",
       "    <tr>\n",
       "      <th>14251</th>\n",
       "      <td>Pesticide and Other Agricultural Chemical Manu...</td>\n",
       "      <td>This industry comprises establishments primari...</td>\n",
       "    </tr>\n",
       "    <tr>\n",
       "      <th>14252</th>\n",
       "      <td>oasis:agent</td>\n",
       "      <td>An \"oasis:agent\" is a type of agent or actor w...</td>\n",
       "    </tr>\n",
       "  </tbody>\n",
       "</table>\n",
       "<p>14253 rows × 2 columns</p>\n",
       "</div>"
      ],
      "text/plain": [
       "                                                   Label  \\\n",
       "0      Other Personal and Household Goods Repair and ...   \n",
       "1            Other Converted Paper Product Manufacturing   \n",
       "2                 General Medical and Surgical Hospitals   \n",
       "3                     Confectionery Merchant Wholesalers   \n",
       "4                      Other Specialized Design Services   \n",
       "...                                                  ...   \n",
       "14248                 Vocational Rehabilitation Services   \n",
       "14249                                     Books Printing   \n",
       "14250                        Petrochemical Manufacturing   \n",
       "14251  Pesticide and Other Agricultural Chemical Manu...   \n",
       "14252                                        oasis:agent   \n",
       "\n",
       "                                              Definition  \n",
       "0                   See industry description for 811490.  \n",
       "1      This industry comprises establishments primari...  \n",
       "2                                                   NULL  \n",
       "3      This industry comprises establishments primari...  \n",
       "4                   See industry description for 541490.  \n",
       "...                                                  ...  \n",
       "14248                                               NULL  \n",
       "14249  This U.S. industry comprises establishments pr...  \n",
       "14250               See industry description for 325110.  \n",
       "14251  This industry comprises establishments primari...  \n",
       "14252  An \"oasis:agent\" is a type of agent or actor w...  \n",
       "\n",
       "[14253 rows x 2 columns]"
      ]
     },
     "execution_count": 7,
     "metadata": {},
     "output_type": "execute_result"
    }
   ],
   "source": [
    "# Initialize lists to store data\n",
    "labels = []\n",
    "definitions = []\n",
    "\n",
    "# Find all instances of <owl:Class> elements and extract label and definition\n",
    "for owl_class in soup.find_all('owl:Class'):\n",
    "    label_element = owl_class.find('rdfs:label')\n",
    "    definition_element = owl_class.find('skos:definition')\n",
    "    \n",
    "    # Check if label and definition elements exist\n",
    "    if label_element and definition_element:\n",
    "        label = label_element.text.strip()\n",
    "        definition = definition_element.text.strip()\n",
    "        \n",
    "        # Append data to lists\n",
    "        labels.append(label)\n",
    "        definitions.append(definition)\n",
    "\n",
    "data = {'Label': labels, 'Definition': definitions}\n",
    "owl_df = pd.DataFrame(data)\n",
    "\n",
    "owl_df"
   ]
  },
  {
   "cell_type": "markdown",
   "metadata": {},
   "source": [
    "### Function to get classes"
   ]
  },
  {
   "cell_type": "code",
   "execution_count": 8,
   "metadata": {},
   "outputs": [],
   "source": [
    "import random\n",
    "\n",
    "\n",
    "def filter_label_by_substring(df, substring):\n",
    "    \"\"\"\n",
    "    Filter DataFrame rows containing the specified substring in the 'Label' column\n",
    "    and return a list of strings in the format \"{Label} : {Definition}\".\n",
    "    \n",
    "    Args:\n",
    "        df (pandas.DataFrame): Input DataFrame.\n",
    "        substring (str): Substring to search for.\n",
    "        \n",
    "    Returns:\n",
    "        list: List of strings in the format \"{Label} : {Definition}\" for matching rows.\n",
    "    \"\"\"\n",
    "    filtered_df = df[df['Label'].str.contains(substring, case=False)]\n",
    "    output_list = []\n",
    "    \n",
    "    if len(filtered_df) <= 3:\n",
    "        for index, row in filtered_df.iterrows():\n",
    "            output_list.append(f\"{row['Label']} : {row['Definition']}\")\n",
    "    else:\n",
    "        selected_indices = random.sample(range(len(filtered_df)), 3)\n",
    "        for idx in selected_indices:\n",
    "            row = filtered_df.iloc[idx]\n",
    "            output_list.append(f\"{row['Label']} : {row['Definition']}\")\n",
    "    \n",
    "    return output_list"
   ]
  },
  {
   "cell_type": "code",
   "execution_count": 9,
   "metadata": {},
   "outputs": [],
   "source": [
    "def filter_words_by_substring(words, df):\n",
    "    \"\"\"\n",
    "    Filter DataFrame rows for each word in the list of words and append the results in a final list.\n",
    "    \n",
    "    Args:\n",
    "        words (list): List of words.\n",
    "        df (pandas.DataFrame): Input DataFrame.\n",
    "        \n",
    "    Returns:\n",
    "        list: List of strings in the format \"{Label} : {Definition}\" for matching rows for all words.\n",
    "    \"\"\"\n",
    "    final_output = []\n",
    "    for word in words:\n",
    "        output_list = filter_label_by_substring(df, word)\n",
    "        final_output.extend(output_list)\n",
    "    return final_output"
   ]
  },
  {
   "cell_type": "code",
   "execution_count": 12,
   "metadata": {},
   "outputs": [],
   "source": [
    "from nltk.corpus import stopwords\n",
    "\n",
    "def remove_stopwords(text, language='english'):\n",
    "    # Get the stopwords for the specified language\n",
    "    stopwords_list = set(stopwords.words(language))\n",
    "    \n",
    "    # Split the text into words\n",
    "    words = text.split()\n",
    "    \n",
    "    # Remove stopwords\n",
    "    filtered_words = [word for word in words if word.lower() not in stopwords_list]\n",
    "    \n",
    "    return filtered_words"
   ]
  },
  {
   "cell_type": "code",
   "execution_count": 15,
   "metadata": {},
   "outputs": [
    {
     "name": "stdout",
     "output_type": "stream",
     "text": [
      "['Analysis of Pre-Petition Lien Issues : Analysis of Pre-Petition Lien Issues refers to the examination and evaluation of any legal claims or encumbrances on property that arise before the filing of a bankruptcy petition.', 'Issuer : An issuer is a legal entity that develops, registers and sells securities to finance its operations. Issuers may be corporations, investment trusts, or domestic or foreign governments.', \"Travel Document Issued Date : The Travel Document Issued Date is the specific date on which a travel document like a passport or visa was officially issued by the relevant authority. This date is important for determining the document's validity period and is often required when applying for visas or entering foreign countries\", \"Reputational Risk : The threats and opportunities associated with an organization's reputation and credibility with its partners, stakeholders, and the public — that might damage an organization's public image, credibility, or brand value. These risks can stem from various sources, such as operational failures, unethical behavior, or public controversies, potentially leading to diminished customer loyalty, reduced investor confidence, or decreased market opportunities, ultimately impacting the organization's overall performance and growth prospects.\", 'Recoupment for Contract Breach Harming Outsider : Recoupment for Contract Breach Harming Outsider: A legal claim for restitution or compensation sought by a third party who has suffered harm as a result of a breach of contract between two other parties.', 'Pharmaceutical and Medicine Manufacturing : This industry comprises establishments primarily engaged in one or more of the following: (1) manufacturing biological and medicinal products; (2) processing (i.e., grading, grinding, and milling) botanical drugs and herbs; (3) isolating active medicinal principals from botanical drugs and herbs; and (4) manufacturing pharmaceutical products intended for internal and external consumption in such forms as ampoules, tablets, capsules, vials, ointments, powders, solutions, and suspensions.', 'Pharmaceutical and Medicine Manufacturing : This industry comprises establishments primarily engaged in one or more of the following: (1) manufacturing biological and medicinal products; (2) processing (i.e., grading, grinding, and milling) botanical drugs and herbs; (3) isolating active medicinal principals from botanical drugs and herbs; and (4) manufacturing pharmaceutical products intended for internal and external consumption in such forms as ampoules, tablets, capsules, vials, ointments, powders, solutions, and suspensions.', 'Aerospace Product and Parts Manufacturing : NULL', 'Polystyrene Foam Product Manufacturing : See industry description for 326140.', 'Synthetic Rubber Manufacturing : This U.S. industry comprises establishments primarily engaged in manufacturing synthetic rubber.', 'Joint and Several Liability : Joint and Several Liability is a legal concept where multiple parties can be held responsible for the same damages or debt, and each party can be held liable for the entire amount.', 'Joint and Several Liability Clause : A joint and several liability clause is a provision in a contract that holds multiple parties responsible for fulfilling the obligations of the contract, either individually or collectively.', 'Joint and Several Obligations Clause : A joint and several obligations clause is a provision in a contract where two or more parties are jointly and individually responsible for fulfilling the obligations outlined in the agreement.', 'Crewmember Visa - Different Vessels : Non-immigrant visa for crew members who work on a marine vessel or aircraft and will depart on a different vessel than the one they arrived on.', \"Creditor Among 20 Largest Unsecured Creditors : A creditor among the 20 largest unsecured creditors is a person or entity who is owed a debt by a debtor and is one of the top 20 creditors who do not have a security interest in the debtor's property.\", \"Creditors' Committee Chair : Chair of the Creditors' Committee, which is appointed by the U.S. trustee and that represents a group of creditors\", 'Official Committee of Creditors : In U.S. bankruptcy law under chapter 11, the United States Trustee may appoint an official committee of unsecured creditors. The purpose of this committee is to represent the overall interests of all unsecured creditors.', 'Motion to Set Last Day to File Proofs of Claim : A Motion to Set Last Day to File Proofs of Claim is a request made in a bankruptcy case to establish a deadline for creditors to submit their claims for payment.', \"Appellate Page Proof Reply Brief : An Appellate Page Proof Reply Brief is a written document submitted to a higher court in response to an opposing party's arguments, which includes evidence and legal reasoning to support the appellant's position.\", 'Motion to File Amended Proof of Claim : A Motion to File Amended Proof of Claim is a request made in a bankruptcy case to modify or update a previously filed claim.', 'Ready-Mix Concrete Manufacturing : This industry comprises establishments, such as batch plants or mix plants, primarily engaged in manufacturing concrete delivered to a purchaser in a plastic and unhardened state. Ready-mix concrete manufacturing establishments may mine, quarry, or purchase sand and gravel.', 'Ready-Mix Concrete Manufacturing : See industry description for 327320.', 'Tire Tread Evidence : Tire tread evidence encompasses the patterns and impressions left by vehicle tires on surfaces. By analyzing these marks, forensic experts can determine the type, brand, and sometimes specific wear characteristics of the tire, potentially linking a vehicle to a crime scene.', 'Article 3 Claim : An Article III claim pertains to a legal argument based on Article III of the U.S. Constitution, which establishes the judicial branch of the federal government. Such a claim may arise in disputes over federal court jurisdiction, the interpretation of federal laws, or the constitutionality of legislation or executive actions.', 'Article 5 Claim : An Article V claim pertains to a legal argument based on Article V of the U.S. Constitution, which sets out the process for amending the Constitution. Such a claim might arise in disputes over the interpretation or application of the amendment process, including the proposal and ratification of amendments.', \"Article 2 Claim : An Article II claim refers to a legal assertion grounded in the provisions of Article II of the U.S. Constitution, which defines the powers and responsibilities of the Executive Branch, primarily the President. A claim could arise when there's a dispute over the interpretation or application of these powers, including issues related to executive orders, presidential authority, or the conduct of foreign affairs.\", ['Motion in Limine to Exclude Hearsay Witness : A Motion in Limine to Exclude Hearsay Witness is a legal request made by one party to prevent the other party from presenting testimony from a witness who will testify about statements made by someone else out of court, which are being offered to prove the truth of the matter asserted.', 'Motion to Exclude Hearsay Witness : A Motion to Exclude Hearsay Witness is a legal request to prevent a witness from testifying in court based on the fact that their testimony is based on hearsay evidence.']]\n",
      "27\n"
     ]
    }
   ],
   "source": [
    "#example usage\n",
    "search_substring = 'On the issue of whether Jennifer suffered reputational harm from Lindas article, the fact that Linda worked with several different editors to proof read and cross-check her article.'\n",
    "filtered_words = remove_stopwords(search_substring)\n",
    "result = filter_words_by_substring(filtered_words,owl_df)\n",
    "result.append(filter_label_by_substring(owl_df,'hearsay'))\n",
    "print(result)\n",
    "print(len(result))"
   ]
  },
  {
   "cell_type": "markdown",
   "metadata": {},
   "source": [
    "# Dataset"
   ]
  },
  {
   "cell_type": "code",
   "execution_count": 16,
   "metadata": {},
   "outputs": [
    {
     "name": "stderr",
     "output_type": "stream",
     "text": [
      "/home/ojasva20318/.local/lib/python3.8/site-packages/datasets/load.py:1454: FutureWarning: The repository for nguha/legalbench contains custom code which must be executed to correctly load the dataset. You can inspect the repository content at https://hf.co/datasets/nguha/legalbench\n",
      "You can avoid this message in future by passing the argument `trust_remote_code=True`.\n",
      "Passing `trust_remote_code=True` will be mandatory to load this dataset from the next major release of `datasets`.\n",
      "  warnings.warn(\n"
     ]
    }
   ],
   "source": [
    "dataset_hearsay = datasets.load_dataset(\"nguha/legalbench\", \"hearsay\")"
   ]
  },
  {
   "cell_type": "code",
   "execution_count": 17,
   "metadata": {},
   "outputs": [
    {
     "data": {
      "text/html": [
       "<div>\n",
       "<style scoped>\n",
       "    .dataframe tbody tr th:only-of-type {\n",
       "        vertical-align: middle;\n",
       "    }\n",
       "\n",
       "    .dataframe tbody tr th {\n",
       "        vertical-align: top;\n",
       "    }\n",
       "\n",
       "    .dataframe thead th {\n",
       "        text-align: right;\n",
       "    }\n",
       "</style>\n",
       "<table border=\"1\" class=\"dataframe\">\n",
       "  <thead>\n",
       "    <tr style=\"text-align: right;\">\n",
       "      <th></th>\n",
       "      <th>answer</th>\n",
       "      <th>index</th>\n",
       "      <th>slice</th>\n",
       "      <th>text</th>\n",
       "    </tr>\n",
       "  </thead>\n",
       "  <tbody>\n",
       "    <tr>\n",
       "      <th>0</th>\n",
       "      <td>No</td>\n",
       "      <td>0</td>\n",
       "      <td>Non-assertive conduct</td>\n",
       "      <td>On the issue of whether James is an smart indi...</td>\n",
       "    </tr>\n",
       "    <tr>\n",
       "      <th>1</th>\n",
       "      <td>No</td>\n",
       "      <td>1</td>\n",
       "      <td>Non-assertive conduct</td>\n",
       "      <td>On the issue of whether Robert negligently dro...</td>\n",
       "    </tr>\n",
       "    <tr>\n",
       "      <th>2</th>\n",
       "      <td>No</td>\n",
       "      <td>2</td>\n",
       "      <td>Non-assertive conduct</td>\n",
       "      <td>On the issue of whether John knew about the co...</td>\n",
       "    </tr>\n",
       "    <tr>\n",
       "      <th>3</th>\n",
       "      <td>No</td>\n",
       "      <td>3</td>\n",
       "      <td>Non-assertive conduct</td>\n",
       "      <td>On the issue of whether Michael was guilty of ...</td>\n",
       "    </tr>\n",
       "    <tr>\n",
       "      <th>4</th>\n",
       "      <td>No</td>\n",
       "      <td>4</td>\n",
       "      <td>Non-assertive conduct</td>\n",
       "      <td>On the issue of whether William was loved by h...</td>\n",
       "    </tr>\n",
       "    <tr>\n",
       "      <th>...</th>\n",
       "      <td>...</td>\n",
       "      <td>...</td>\n",
       "      <td>...</td>\n",
       "      <td>...</td>\n",
       "    </tr>\n",
       "    <tr>\n",
       "      <th>89</th>\n",
       "      <td>No</td>\n",
       "      <td>89</td>\n",
       "      <td>Not introduced to prove truth</td>\n",
       "      <td>To prove that Arthur believed that Amy and Dan...</td>\n",
       "    </tr>\n",
       "    <tr>\n",
       "      <th>90</th>\n",
       "      <td>No</td>\n",
       "      <td>90</td>\n",
       "      <td>Not introduced to prove truth</td>\n",
       "      <td>To prove that the trademarks of restaurant A a...</td>\n",
       "    </tr>\n",
       "    <tr>\n",
       "      <th>91</th>\n",
       "      <td>No</td>\n",
       "      <td>91</td>\n",
       "      <td>Not introduced to prove truth</td>\n",
       "      <td>To prove that Michael knew of the existing pat...</td>\n",
       "    </tr>\n",
       "    <tr>\n",
       "      <th>92</th>\n",
       "      <td>No</td>\n",
       "      <td>92</td>\n",
       "      <td>Not introduced to prove truth</td>\n",
       "      <td>To prove that Arthur and Mary had a conversati...</td>\n",
       "    </tr>\n",
       "    <tr>\n",
       "      <th>93</th>\n",
       "      <td>Yes</td>\n",
       "      <td>94</td>\n",
       "      <td>Standard hearsay</td>\n",
       "      <td>On the issue of whether Melissa was the agent ...</td>\n",
       "    </tr>\n",
       "  </tbody>\n",
       "</table>\n",
       "<p>94 rows × 4 columns</p>\n",
       "</div>"
      ],
      "text/plain": [
       "   answer index                          slice  \\\n",
       "0      No     0          Non-assertive conduct   \n",
       "1      No     1          Non-assertive conduct   \n",
       "2      No     2          Non-assertive conduct   \n",
       "3      No     3          Non-assertive conduct   \n",
       "4      No     4          Non-assertive conduct   \n",
       "..    ...   ...                            ...   \n",
       "89     No    89  Not introduced to prove truth   \n",
       "90     No    90  Not introduced to prove truth   \n",
       "91     No    91  Not introduced to prove truth   \n",
       "92     No    92  Not introduced to prove truth   \n",
       "93    Yes    94               Standard hearsay   \n",
       "\n",
       "                                                 text  \n",
       "0   On the issue of whether James is an smart indi...  \n",
       "1   On the issue of whether Robert negligently dro...  \n",
       "2   On the issue of whether John knew about the co...  \n",
       "3   On the issue of whether Michael was guilty of ...  \n",
       "4   On the issue of whether William was loved by h...  \n",
       "..                                                ...  \n",
       "89  To prove that Arthur believed that Amy and Dan...  \n",
       "90  To prove that the trademarks of restaurant A a...  \n",
       "91  To prove that Michael knew of the existing pat...  \n",
       "92  To prove that Arthur and Mary had a conversati...  \n",
       "93  On the issue of whether Melissa was the agent ...  \n",
       "\n",
       "[94 rows x 4 columns]"
      ]
     },
     "execution_count": 17,
     "metadata": {},
     "output_type": "execute_result"
    }
   ],
   "source": [
    "test_df = dataset_hearsay['test'].to_pandas()\n",
    "test_df"
   ]
  },
  {
   "cell_type": "code",
   "execution_count": 18,
   "metadata": {},
   "outputs": [
    {
     "data": {
      "text/plain": [
       "['On the issue of whether James is an smart individual, the fact that James came first in his class in law school.',\n",
       " 'On the issue of whether Robert negligently drove, the fact that Robert fell asleep while driving.',\n",
       " 'On the issue of whether John knew about the conspiracy, the fact that John likes sweatpants.',\n",
       " 'On the issue of whether Michael was guilty of murder, the fact that Michael left the crime scene immediately.',\n",
       " 'On the issue of whether William was loved by his community, the fact that he was selected to speak at his graduation.',\n",
       " 'On the issue of whether Mary robbed the bank, the fact that Mary went to the bank in disguise.',\n",
       " 'On the issue of whether Patricia was a fan of Coldplay, the fact that she had a poster with the lyrics of \"Viva la Vida\" on her bedroom wall.',\n",
       " \"On the issue of whether Jennifer suffered reputational harm from Linda's article, the fact that Linda worked with several different editors to proof read and cross-check her article.\",\n",
       " \"On the issue of whether Elizabeth was misdiagnosed by Barbara, the fact that Barbara didn't consult with her usual charts while assessing Elizabethg.\",\n",
       " 'On the issue of whether Richard had ever visited Chicago, the fact that he gave a speech there in 2005.',\n",
       " 'On the issue of how long Joseph and Thomas had known each other, the fact that were neighbors during elementary school.',\n",
       " 'On the issue of whether Susan was familiar with Shakespeare, the fact that she had once played the role of Macbeth and recieved a standing ovation after her monologue.',\n",
       " 'On the issue of whether Jessica was aware she was trespassing, the fact that Jessica had been diagnosed as near-sighted by her ophthalmologist.',\n",
       " 'On the issue of whether Sarah was acting as an agent for the corporation, the fact that Sarah had worked there previously for four years.',\n",
       " 'On the issue of whether Charles was responsible for the defamatory article published online, the fact that Charles had visited the website responsible for the article multiple times in the past year.',\n",
       " 'On the issue of whether Karen negligently operated the forklift, the fact that Karen is a terrible driver who needed several tries to pass her commercial license test.',\n",
       " \"On the issue of whether the patent was infringed, the fact that the corporation's chief scientist was known to cheat at card games.\",\n",
       " 'On the issue of whether Christopher acted with malice, the fact that Christopher was often moody and had a large temper.',\n",
       " 'On the issue of whether the parties had actually agreed to the contract, the fact that one of the parties had mistaken the identity of the other party.',\n",
       " \"On the issue of which car was responsible for a hit-and-run, the witness's statement in court that she believed it was the blue sedan.\",\n",
       " 'On the issue of the faultiness of the designed house, the drawing the witness made on the stand during testimony.',\n",
       " 'On the issue of which of the defendants was responsible for driving the get-away car, the fact that the witness on the stand turned and pointed to the man in the blue suit.',\n",
       " \"On the issue of whether Ana lied to Jim, Jim's statement on cross-examination that he did not believe Ana to be an honest individual.\",\n",
       " 'On the issue of whether Daniel drove negligently, the fact that Daniel testified during the trial that he told his wife he was tired before driving into a tree.',\n",
       " \"On the issue of whether Carl had knowledge of Amy's intentions, Carl told the questioning attorney on redirect examination that he knew Amy's intentions.\",\n",
       " 'On the issue of whether Nancy knew who attacked her, Nancy\\'s statement in court, \"I was attacked by Sandra.\"',\n",
       " \"During the trial, Mark nodded when asked if it was him who vandalized Emily's garage.\",\n",
       " 'On the issue of which employee saw Emily last, the fact that James testified on the stand that he was on vacation that day and had last spoken to Emily the week before.',\n",
       " 'On the issue of whether Will knew that the company intended to announce its drug trials had been cancelled, the fact that he told the jury that \"he didn\\'t know the first thing about how medicines worked.\"',\n",
       " \"On the issue of the defendant's guilt, Alex told the jury that he believed the defendant was guilty.\",\n",
       " 'When showed floorplans of the museum during the trial, Andrew pointed out all the escape routes that he and his co-conspirators had planned to use. ',\n",
       " 'When asked if he was remorseful by his attorney, Adam testified that \"he regretted his actions.\"',\n",
       " 'On the issue of whether Donna was ill, the fact that Margaret testified during trial that she thought Donna was unwell.',\n",
       " 'On the issue of the sanity of Deborah, the fact that Deborah told her friend that she is completely sane.',\n",
       " \"On the issue of whether Joshua's friend was attacked by Ashley, the fact that Joshua's friend told Joshua that he was just attacked by Ashley.\",\n",
       " 'To prove that Tom was in town, a witness testifies that her friend Susan told her Tom was in town.',\n",
       " 'To prove that Shirley committed fraud, the fact that she told her neighbor she was planning on tricking the defendant by selling them a fake handbag.',\n",
       " 'To prove that Stephen drove his car through a stoplight, the fact that Stephen told his wife on the phone that he was not paying attention to the road.',\n",
       " 'On the issue of whether Henry negligently hit Kelly with his car, Kelly\\'s statement, \"a witness told me after the crash that Henry was on his cell phone while driving.\"',\n",
       " 'On the issue of whether Sean knew he was going to die, the fact that he called his lawyer wanting to make final changes to his will.',\n",
       " 'To prove that Alice was planning a robbery, the fact that she told Bob she was researching escape routes.',\n",
       " 'To prove that Bruce committed medical malpractice, the fact that he told a nurse after the surgery that he thought he made a mistake.',\n",
       " 'To prove that Alice suffered reputational harm, the fact that people were telling Bob that they had heard bad things about Alice.',\n",
       " 'To prove that the Denise and Tom were married, the fact that Amber sent them a card congratulating them on their wedding.',\n",
       " 'To prove that Alex owned a red car, the fact that she sent an email to her mother explaining how she was planning on purchasing a red car.',\n",
       " \"On the issue of whether the accident was a result of negligence, a bystander's exclamation that driver was looking down at their phone while driving.\",\n",
       " 'On the issue of whether Henry committed insider trading, Alice\\'s statement to Bob that Henry told her he had a \"great tip about what a certain stock was going to do.\" ',\n",
       " 'On the issue of whether Jane knew that Arthur was having an affair, the fact that Bob told Jane he suspected Arthur was up to something.',\n",
       " \"On the issue of whether Mary was Tom's mother, the fact that Albert told Mary that Tom looked like her.\",\n",
       " 'Alex is being sued for breach of contract relating to a delay in the shipment of mangos. To prove that the shipment was delayed, a witness for the plaintiffs testifies that he heard Alex complain about not being able to deliver the mangos in time. ',\n",
       " \"Alex is being prosecuted for participation in a criminal conspiracy. To prove that Alex participated in the conspiracy, the prosecution's witness testifies that she heard Alex making plans to meet with his co-conspirators.\",\n",
       " 'Dave is being sued by Taylor Swift for copyright infringement. To prove that Dave had listened to Taylor Swift, the plaintiffs introduced evidence of Dave telling his friend that his favorite artist was Taylor Swift.',\n",
       " 'Angela is suing Harold for defamation. To prove that Harold knowingly spread falsehoods about her, Angela introduces evidence of Harold admitting to his friend that his statements about Angela were all lies.',\n",
       " 'Joe is being prosecuted for illegally transporting turtle eggs under an animal trafficking statute. To prove that Joe owned the duffel bag in which contained the turtle eggs, the prosecution introduces evidence of Joe asking a store-owner if they carried any duffel bags.',\n",
       " 'Corporation A decides to sue Corporation B for stealing trade secrets. To prove that B did it, lawyers for A introduce as evidence a statement made by B\\'s CEO to one of his friends that B \"would soon have the ability to compete with A.\" ',\n",
       " 'Kim is sued by Jim for medical malpractice. To prove that Kim was a bad doctor, Jim introduces evidence that Kim told her friend that she cheated on all her medical school exams.',\n",
       " 'To prove that Albert likes ice cream, the prosecution introduces evidence that Albert told Jim that \"he wanted an ice cream.\"',\n",
       " 'To prove that Jose liked red Ferraris, the defense introduces testimony from Tracy discussing how Jose told her that his favorite color is red and his favorite car is a Ferrari.',\n",
       " 'To prove that Michael was in charge of the group, the plaintiffs introduce evidence of Michael stating, \"I am the boss here.\"',\n",
       " \"On the issue of whether Sandy knew that the cash belonged to Michael, Amy testifies that Sandy told her he thought he had Michael's cash.\",\n",
       " 'On the issue of whether the brakes were faulty, Amy testifies that she heard Arthur claim that he thought something was wrong with the car.',\n",
       " 'To prove that the CEO knew of the fraudulent activities occuring, an email he sent his acknowledging his awareness of the conduct.',\n",
       " 'On the issue of whether the defendant knew he was trespassing, the fact that he shook his head when asked by a passing security guard about whether he knew he was on private property.',\n",
       " 'To prove that the insured under a life policy is dead, his wife offers a death certificate.',\n",
       " 'On the issue of which car was responsible for the hit and run, the fact that a bystander turned and pointed to a blue sedan.',\n",
       " \"To prove that the defendant was present at the scene of the crime, a forensics report describing traces of the defendant's DNA that was found by investigators.\",\n",
       " 'To prove that the student was a terrible student, the mid-term report written by his teacher.',\n",
       " 'On the issue of whether Albert visited the garage sale, the fact that Tom wrote in an email to Mary that he saw Albert at the garage sale.',\n",
       " 'On the issue of whether Albert supported environmental reform, the fact that his car has many stickers with environmental slogans.',\n",
       " 'On the issue of whether Albert bought a knife, Angela testified that he shook his head when she asked him.',\n",
       " \"On the issue of Albert's wellbeing after the accident, Angela testified that he gave a thumbs up when asked how he was feeling.\",\n",
       " \"Albert is being sued by Tim for breach of contract. The issue is whether Albert knew at the time signing the contract that he had no intention of following through. Tim's lawyers introduce an email Albert wrote to his friend saying he wasn't planning on honoring the contract with Tim.\",\n",
       " 'On the issue of whether factory management had underpaid its workers, the fact that workers carried signs during a protest demanding equitable compensation.',\n",
       " 'On the issue of whether Albert liked Taylor Swift, a social media post written by Albert describing Taylor as his favorite artist.',\n",
       " 'On the issue of whether Tom identified the suspect at the scene of the crime, the fact that he pointed at the defendant.',\n",
       " 'On the issue of the sanity of Bobby, the fact that Bobby told a friend that she believed she was Santa Clause.',\n",
       " 'On the issue of whether Vincent was provoked by Roy, the fact that Vincent was told by his friend that he had just been attacked by Roy.',\n",
       " 'On the issue of whether Kayla knew she was ill, the fact that Philip told him she was unwell.',\n",
       " 'On the issue of damage to Mason\\'s reputation as a sober individual, Lori\\'s public statement, \"I have never seen Mason drink.\"',\n",
       " 'On the issue of whether Gerald was alive immediately after being attacked by Kathryn, Gerald\\'s statement, \"I was attacked by Kathryn.\"',\n",
       " 'On issue of Dylan\\'s ill feeling toward Andrew, Dylan\\'s statement, \"Andrew is a liar and a hypocrite.\"',\n",
       " 'On the issue of whether Ann and Austin had a discussion, Ann\\'s statement to Austin, \"I will sell my car to you for a cost.\"',\n",
       " 'On the issue of whether Patty knew Dave, the prosecution introduces evidence that Patty told Arthur, \"Dave is really dishonest.\"',\n",
       " 'To prove that Arthur knew English, the fact that Arthur told Bill (in English) that he thought Mary robbed the bank.',\n",
       " 'To prove that Arthur had notice that a bank robbery was being planned, the fact that Arthur told Mary that he heard a bank robbery was going to happen.',\n",
       " 'To prove that Mary was at the mall on January 2nd, a mall employee testifies that on January 2nd, Mary told him she was planning on purchasing several diamonds.',\n",
       " 'To prove that Anne supported David, the fact that Anne said that David was the best boss in the world.',\n",
       " 'To prove that Daniel was sad upon hearing the news, the fact he exlaimed \"the world was ending\" and \"nothing mattered anymore.\"',\n",
       " 'To prove that Amy believed that Karl was an employee of the store, the fact that Amy told Karl that the store needed to refund her because their marketing had been decieving. ',\n",
       " 'To prove that Arthur believed that Amy and Daniel were married, the fact that he wished them a happy anniversary.',\n",
       " 'To prove that the trademarks of restaurant A and restaurant B created confusion, the fact that a customer called one and placed an order believing it to actually be the other.',\n",
       " 'To prove that Michael knew of the existing patent, the fact that he told his friend that the patent was poorly written.',\n",
       " 'To prove that Arthur and Mary had a conversation, the fact that Arthur told Mary that the weather the following week would be terrible.',\n",
       " \"On the issue of whether Melissa was the agent of Mark, Melissa's statement to Tim that her offer was being made as an agent of Mark.\"]"
      ]
     },
     "execution_count": 18,
     "metadata": {},
     "output_type": "execute_result"
    }
   ],
   "source": [
    "prompts = test_df[\"text\"].tolist()\n",
    "prompts"
   ]
  },
  {
   "cell_type": "code",
   "execution_count": 19,
   "metadata": {},
   "outputs": [
    {
     "data": {
      "text/plain": [
       "'On the issue of whether James is an smart individual, the fact that James came first in his class in law school.'"
      ]
     },
     "execution_count": 19,
     "metadata": {},
     "output_type": "execute_result"
    }
   ],
   "source": [
    "prompts[0]"
   ]
  },
  {
   "cell_type": "code",
   "execution_count": 15,
   "metadata": {},
   "outputs": [
    {
     "name": "stdout",
     "output_type": "stream",
     "text": [
      "[('On the issue of whether David is fast, the fact that David set a high school track record.', 'No'), ('On the issue of whether Rebecca was ill, the fact that Rebecca told Ronald that she was unwell.', 'Yes'), ('\"To prove that Tim was a soccer fan, the fact that Tim told Jimmy that \"\"Real Madrid was the best soccer team in the world.\"\"\"', 'No'), ('\"When asked by the attorney on cross-examination, Alice testified that she had \"\"never seen the plaintiff before, and had no idea who she was.\"\"\"', 'No'), ('On the issue of whether Martin punched James, the fact that Martin smiled and nodded when asked if he did so by an officer on the scene.', 'Yes')]\n"
     ]
    }
   ],
   "source": [
    "def read_tsv(file_path):\n",
    "    examples = []\n",
    "    with open(file_path, 'r') as file:\n",
    "        next(file)\n",
    "        for line in file:\n",
    "            index, answer, text, _ = line.strip().split('\\t')\n",
    "            examples.append((text, answer))\n",
    "    return examples\n",
    "\n",
    "# Read examples from test.tsv\n",
    "examples = read_tsv('tasks/hearsay/train.tsv')\n",
    "\n",
    "print(examples)"
   ]
  },
  {
   "cell_type": "code",
   "execution_count": 59,
   "metadata": {},
   "outputs": [],
   "source": [
    "def add_labels_and_definitions_to_prompt(prompt_text):\n",
    "    # Initialize full_prompt with prompt_text\n",
    "    full_prompt = f\"\"\"\n",
    "Below is an instruction that describes a task. Write a response that appropriately completes the request.\\n\n",
    "### Instruction:\n",
    "Evaluate the statement by considering the following criteria derived from the ontology classes. Use your assessment to classify the statement as Hearsay or not.\n",
    "\n",
    "Statement: {prompt_text}\n",
    "\n",
    "Criteria:\\n\"\"\"\n",
    "\n",
    "    # Add filtered labels and definitions to the prompt\n",
    "    filtered_words = remove_stopwords(prompt_text)\n",
    "    filtered_labels = filter_words_by_substring(filtered_words,owl_df)\n",
    "    filtered_labels.append(filter_label_by_substring(owl_df,'hearsay'))\n",
    "    for label_definition in filtered_labels:\n",
    "        full_prompt += f\"\\n{label_definition}\"\n",
    "\n",
    "    full_prompt += \"\\n\\nOutput Format: One word (Yes/No) indicating whether the statement is hearsay\"\n",
    "\n",
    "    full_prompt += \"\\n\\n### Response:\\n\"\n",
    "    return full_prompt\n"
   ]
  },
  {
   "cell_type": "markdown",
   "metadata": {},
   "source": [
    "# Testing - Hearsay"
   ]
  },
  {
   "cell_type": "code",
   "execution_count": 60,
   "metadata": {},
   "outputs": [
    {
     "data": {
      "text/plain": [
       "['Motion in Limine to Exclude Hearsay Witness : A Motion in Limine to Exclude Hearsay Witness is a legal request made by one party to prevent the other party from presenting testimony from a witness who will testify about statements made by someone else out of court, which are being offered to prove the truth of the matter asserted.',\n",
       " 'Motion to Exclude Hearsay Witness : A Motion to Exclude Hearsay Witness is a legal request to prevent a witness from testifying in court based on the fact that their testimony is based on hearsay evidence.']"
      ]
     },
     "execution_count": 60,
     "metadata": {},
     "output_type": "execute_result"
    }
   ],
   "source": [
    "filtered_labels = filter_label_by_substring(owl_df, \"hearsay\")\n",
    "filtered_labels"
   ]
  },
  {
   "cell_type": "code",
   "execution_count": 61,
   "metadata": {},
   "outputs": [
    {
     "name": "stdout",
     "output_type": "stream",
     "text": [
      "\n",
      "Below is an instruction that describes a task. Write a response that appropriately completes the request.\n",
      "\n",
      "### Instruction:\n",
      "Evaluate the statement by considering the following criteria derived from the ontology classes. Use your assessment to classify the statement as Hearsay or not.\n",
      "\n",
      "Statement: On the issue of whether Robert negligently drove, the fact that Robert fell asleep while driving.\n",
      "\n",
      "Criteria:\n",
      "\n",
      "Analysis of Pre-Petition Lien Issues : Analysis of Pre-Petition Lien Issues refers to the examination and evaluation of any legal claims or encumbrances on property that arise before the filing of a bankruptcy petition.\n",
      "Travel Document Issued Date : The Travel Document Issued Date is the specific date on which a travel document like a passport or visa was officially issued by the relevant authority. This date is important for determining the document's validity period and is often required when applying for visas or entering foreign countries\n",
      "JE10 Issue and Serve Proceedings and Preparation of Statement of Case (UK J-CODE) : Work related to effecting service, including dealing with process servers or the foreign process office. Work in preparation of claims, petitions and any other originating process, Statements of Case, Part 20 proceedings, including reviewing those of other parties whether or not a responsive document is served. Includes all work with counsel thereon and all dealings with client and others in connection therewith.  In appeals includes Appellants’ and Respondents’ Notices and supporting skeleton arguments.\n",
      "Negligently Providing Alcohol : The concept of Negligently Providing Alcohol refers to the legal claim that holds a person responsible for providing alcohol to someone who is not legally allowed to consume it or who is already intoxicated, resulting in harm or injury to that person or others.\n",
      "Words Negligently Spoken : Words Negligently Spoken refers to a legal concept under Defamation where a statement is made without proper care and caution, resulting in harm to the reputation of the subject.\n",
      "Motion for Relief due to Satisfaction, Release, or Discharge : FRCP 60(b)(5)\n",
      "Manufacturing Defect : A manufacturing defect is a type of product defect that occurs when a product is not made according to its intended design, resulting in a dangerous or defective product.\n",
      "Fact Witness : A nonparty who testifies to things that person has perceived.\n",
      "Injury by Fellow Servant : An injury caused by a co-worker or fellow employee, which may be used as a defense in a civil litigation case.\n",
      "Driving Without a License : Driving Without a License refers to the criminal offense of operating a motor vehicle on public roads without a valid driver's license.\n",
      "Driving Under the Influence : Driving or operating a motor vehicle or common carrier while mentally or physically impaired as the result of consuming an alcoholic beverage or using a drug or narcotic.\n",
      "Automobile Driving Schools : This U.S. industry comprises establishments primarily engaged in offering automobile driving instruction.\n",
      "['Motion in Limine to Exclude Hearsay Witness : A Motion in Limine to Exclude Hearsay Witness is a legal request made by one party to prevent the other party from presenting testimony from a witness who will testify about statements made by someone else out of court, which are being offered to prove the truth of the matter asserted.', 'Motion to Exclude Hearsay Witness : A Motion to Exclude Hearsay Witness is a legal request to prevent a witness from testifying in court based on the fact that their testimony is based on hearsay evidence.']\n",
      "\n",
      "Output Format: One word (Yes/No) indicating whether the statement is hearsay\n",
      "\n",
      "### Response:\n",
      "\n"
     ]
    }
   ],
   "source": [
    "example_prompt = add_labels_and_definitions_to_prompt(prompts[1])\n",
    "print(example_prompt)"
   ]
  },
  {
   "cell_type": "code",
   "execution_count": 66,
   "metadata": {},
   "outputs": [
    {
     "name": "stdout",
     "output_type": "stream",
     "text": [
      " No</s>\n"
     ]
    }
   ],
   "source": [
    "prompt = add_labels_and_definitions_to_prompt(prompts[4])\n",
    "\n",
    "response = get_llama_response(prompt,tokenizer,model)\n",
    "\n",
    "print(response)"
   ]
  },
  {
   "cell_type": "code",
   "execution_count": 70,
   "metadata": {},
   "outputs": [
    {
     "name": "stdout",
     "output_type": "stream",
     "text": [
      "Done for prompt 1\n",
      "Done for prompt 2\n",
      "Done for prompt 3\n",
      "Done for prompt 4\n",
      "Done for prompt 5\n",
      "Done for prompt 6\n",
      "Done for prompt 7\n",
      "Done for prompt 8\n",
      "Done for prompt 9\n",
      "Done for prompt 10\n",
      "Done for prompt 11\n",
      "Done for prompt 12\n",
      "Done for prompt 13\n",
      "Done for prompt 14\n",
      "Done for prompt 15\n",
      "Done for prompt 16\n",
      "Done for prompt 17\n",
      "Done for prompt 18\n",
      "Done for prompt 19\n",
      "Done for prompt 20\n",
      "Done for prompt 21\n",
      "Done for prompt 22\n",
      "Done for prompt 23\n",
      "Done for prompt 24\n",
      "Done for prompt 25\n",
      "Done for prompt 26\n",
      "Done for prompt 27\n",
      "Done for prompt 28\n",
      "Done for prompt 29\n",
      "Done for prompt 30\n",
      "Done for prompt 31\n",
      "Done for prompt 32\n",
      "Done for prompt 33\n",
      "Done for prompt 34\n",
      "Done for prompt 35\n",
      "Done for prompt 36\n",
      "Done for prompt 37\n",
      "Done for prompt 38\n",
      "Done for prompt 39\n",
      "Done for prompt 40\n",
      "Done for prompt 41\n",
      "Done for prompt 42\n",
      "Done for prompt 43\n",
      "Done for prompt 44\n",
      "Done for prompt 45\n",
      "Done for prompt 46\n",
      "Done for prompt 47\n",
      "Done for prompt 48\n",
      "Done for prompt 49\n",
      "Done for prompt 50\n",
      "Done for prompt 51\n",
      "Done for prompt 52\n",
      "Done for prompt 53\n",
      "Done for prompt 54\n",
      "Done for prompt 55\n",
      "Done for prompt 56\n",
      "Done for prompt 57\n",
      "Done for prompt 58\n",
      "Done for prompt 59\n",
      "Done for prompt 60\n",
      "Done for prompt 61\n",
      "Done for prompt 62\n",
      "Done for prompt 63\n",
      "Done for prompt 64\n",
      "Done for prompt 65\n",
      "Done for prompt 66\n",
      "Done for prompt 67\n",
      "Done for prompt 68\n",
      "Done for prompt 69\n",
      "Done for prompt 70\n",
      "Done for prompt 71\n",
      "Done for prompt 72\n",
      "Done for prompt 73\n",
      "Done for prompt 74\n",
      "Done for prompt 75\n",
      "Done for prompt 76\n",
      "Done for prompt 77\n",
      "Done for prompt 78\n",
      "Done for prompt 79\n",
      "Done for prompt 80\n",
      "Done for prompt 81\n",
      "Done for prompt 82\n",
      "Done for prompt 83\n"
     ]
    },
    {
     "ename": "error",
     "evalue": "missing ), unterminated subpattern at position 0",
     "output_type": "error",
     "traceback": [
      "\u001b[0;31m---------------------------------------------------------------------------\u001b[0m",
      "\u001b[0;31merror\u001b[0m                                     Traceback (most recent call last)",
      "Cell \u001b[0;32mIn[70], line 7\u001b[0m\n\u001b[1;32m      3\u001b[0m filtered_labels \u001b[38;5;241m=\u001b[39m filter_label_by_substring(owl_df, \u001b[38;5;124m\"\u001b[39m\u001b[38;5;124mhearsay\u001b[39m\u001b[38;5;124m\"\u001b[39m)\n\u001b[1;32m      5\u001b[0m \u001b[38;5;28;01mfor\u001b[39;00m i, prompt_text \u001b[38;5;129;01min\u001b[39;00m \u001b[38;5;28menumerate\u001b[39m(prompts):\n\u001b[0;32m----> 7\u001b[0m     full_prompt \u001b[38;5;241m=\u001b[39m \u001b[43madd_labels_and_definitions_to_prompt\u001b[49m\u001b[43m(\u001b[49m\u001b[43mprompt_text\u001b[49m\u001b[43m)\u001b[49m\n\u001b[1;32m      9\u001b[0m     response \u001b[38;5;241m=\u001b[39m get_llama_response(full_prompt,tokenizer,model)\n\u001b[1;32m     11\u001b[0m     responses\u001b[38;5;241m.\u001b[39mappend(response)\n",
      "Cell \u001b[0;32mIn[59], line 14\u001b[0m, in \u001b[0;36madd_labels_and_definitions_to_prompt\u001b[0;34m(prompt_text)\u001b[0m\n\u001b[1;32m     12\u001b[0m \u001b[38;5;66;03m# Add filtered labels and definitions to the prompt\u001b[39;00m\n\u001b[1;32m     13\u001b[0m filtered_words \u001b[38;5;241m=\u001b[39m remove_stopwords(prompt_text)\n\u001b[0;32m---> 14\u001b[0m filtered_labels \u001b[38;5;241m=\u001b[39m \u001b[43mfilter_words_by_substring\u001b[49m\u001b[43m(\u001b[49m\u001b[43mfiltered_words\u001b[49m\u001b[43m,\u001b[49m\u001b[43mowl_df\u001b[49m\u001b[43m)\u001b[49m\n\u001b[1;32m     15\u001b[0m filtered_labels\u001b[38;5;241m.\u001b[39mappend(filter_label_by_substring(owl_df,\u001b[38;5;124m'\u001b[39m\u001b[38;5;124mhearsay\u001b[39m\u001b[38;5;124m'\u001b[39m))\n\u001b[1;32m     16\u001b[0m \u001b[38;5;28;01mfor\u001b[39;00m label_definition \u001b[38;5;129;01min\u001b[39;00m filtered_labels:\n",
      "Cell \u001b[0;32mIn[9], line 14\u001b[0m, in \u001b[0;36mfilter_words_by_substring\u001b[0;34m(words, df)\u001b[0m\n\u001b[1;32m     12\u001b[0m final_output \u001b[38;5;241m=\u001b[39m []\n\u001b[1;32m     13\u001b[0m \u001b[38;5;28;01mfor\u001b[39;00m word \u001b[38;5;129;01min\u001b[39;00m words:\n\u001b[0;32m---> 14\u001b[0m     output_list \u001b[38;5;241m=\u001b[39m \u001b[43mfilter_label_by_substring\u001b[49m\u001b[43m(\u001b[49m\u001b[43mdf\u001b[49m\u001b[43m,\u001b[49m\u001b[43m \u001b[49m\u001b[43mword\u001b[49m\u001b[43m)\u001b[49m\n\u001b[1;32m     15\u001b[0m     final_output\u001b[38;5;241m.\u001b[39mextend(output_list)\n\u001b[1;32m     16\u001b[0m \u001b[38;5;28;01mreturn\u001b[39;00m final_output\n",
      "Cell \u001b[0;32mIn[8], line 16\u001b[0m, in \u001b[0;36mfilter_label_by_substring\u001b[0;34m(df, substring)\u001b[0m\n\u001b[1;32m      4\u001b[0m \u001b[38;5;28;01mdef\u001b[39;00m \u001b[38;5;21mfilter_label_by_substring\u001b[39m(df, substring):\n\u001b[1;32m      5\u001b[0m \u001b[38;5;250m    \u001b[39m\u001b[38;5;124;03m\"\"\"\u001b[39;00m\n\u001b[1;32m      6\u001b[0m \u001b[38;5;124;03m    Filter DataFrame rows containing the specified substring in the 'Label' column\u001b[39;00m\n\u001b[1;32m      7\u001b[0m \u001b[38;5;124;03m    and return a list of strings in the format \"{Label} : {Definition}\".\u001b[39;00m\n\u001b[0;32m   (...)\u001b[0m\n\u001b[1;32m     14\u001b[0m \u001b[38;5;124;03m        list: List of strings in the format \"{Label} : {Definition}\" for matching rows.\u001b[39;00m\n\u001b[1;32m     15\u001b[0m \u001b[38;5;124;03m    \"\"\"\u001b[39;00m\n\u001b[0;32m---> 16\u001b[0m     filtered_df \u001b[38;5;241m=\u001b[39m df[\u001b[43mdf\u001b[49m\u001b[43m[\u001b[49m\u001b[38;5;124;43m'\u001b[39;49m\u001b[38;5;124;43mLabel\u001b[39;49m\u001b[38;5;124;43m'\u001b[39;49m\u001b[43m]\u001b[49m\u001b[38;5;241;43m.\u001b[39;49m\u001b[43mstr\u001b[49m\u001b[38;5;241;43m.\u001b[39;49m\u001b[43mcontains\u001b[49m\u001b[43m(\u001b[49m\u001b[43msubstring\u001b[49m\u001b[43m,\u001b[49m\u001b[43m \u001b[49m\u001b[43mcase\u001b[49m\u001b[38;5;241;43m=\u001b[39;49m\u001b[38;5;28;43;01mFalse\u001b[39;49;00m\u001b[43m)\u001b[49m]\n\u001b[1;32m     17\u001b[0m     output_list \u001b[38;5;241m=\u001b[39m []\n\u001b[1;32m     19\u001b[0m     \u001b[38;5;28;01mif\u001b[39;00m \u001b[38;5;28mlen\u001b[39m(filtered_df) \u001b[38;5;241m<\u001b[39m\u001b[38;5;241m=\u001b[39m \u001b[38;5;241m3\u001b[39m:\n",
      "File \u001b[0;32m~/.local/lib/python3.8/site-packages/pandas/core/strings/accessor.py:129\u001b[0m, in \u001b[0;36mforbid_nonstring_types.<locals>._forbid_nonstring_types.<locals>.wrapper\u001b[0;34m(self, *args, **kwargs)\u001b[0m\n\u001b[1;32m    124\u001b[0m     msg \u001b[38;5;241m=\u001b[39m (\n\u001b[1;32m    125\u001b[0m         \u001b[38;5;124mf\u001b[39m\u001b[38;5;124m\"\u001b[39m\u001b[38;5;124mCannot use .str.\u001b[39m\u001b[38;5;132;01m{\u001b[39;00mfunc_name\u001b[38;5;132;01m}\u001b[39;00m\u001b[38;5;124m with values of \u001b[39m\u001b[38;5;124m\"\u001b[39m\n\u001b[1;32m    126\u001b[0m         \u001b[38;5;124mf\u001b[39m\u001b[38;5;124m\"\u001b[39m\u001b[38;5;124minferred dtype \u001b[39m\u001b[38;5;124m'\u001b[39m\u001b[38;5;132;01m{\u001b[39;00m\u001b[38;5;28mself\u001b[39m\u001b[38;5;241m.\u001b[39m_inferred_dtype\u001b[38;5;132;01m}\u001b[39;00m\u001b[38;5;124m'\u001b[39m\u001b[38;5;124m.\u001b[39m\u001b[38;5;124m\"\u001b[39m\n\u001b[1;32m    127\u001b[0m     )\n\u001b[1;32m    128\u001b[0m     \u001b[38;5;28;01mraise\u001b[39;00m \u001b[38;5;167;01mTypeError\u001b[39;00m(msg)\n\u001b[0;32m--> 129\u001b[0m \u001b[38;5;28;01mreturn\u001b[39;00m \u001b[43mfunc\u001b[49m\u001b[43m(\u001b[49m\u001b[38;5;28;43mself\u001b[39;49m\u001b[43m,\u001b[49m\u001b[43m \u001b[49m\u001b[38;5;241;43m*\u001b[39;49m\u001b[43margs\u001b[49m\u001b[43m,\u001b[49m\u001b[43m \u001b[49m\u001b[38;5;241;43m*\u001b[39;49m\u001b[38;5;241;43m*\u001b[39;49m\u001b[43mkwargs\u001b[49m\u001b[43m)\u001b[49m\n",
      "File \u001b[0;32m~/.local/lib/python3.8/site-packages/pandas/core/strings/accessor.py:1281\u001b[0m, in \u001b[0;36mStringMethods.contains\u001b[0;34m(self, pat, case, flags, na, regex)\u001b[0m\n\u001b[1;32m   1154\u001b[0m \u001b[38;5;129m@forbid_nonstring_types\u001b[39m([\u001b[38;5;124m\"\u001b[39m\u001b[38;5;124mbytes\u001b[39m\u001b[38;5;124m\"\u001b[39m])\n\u001b[1;32m   1155\u001b[0m \u001b[38;5;28;01mdef\u001b[39;00m \u001b[38;5;21mcontains\u001b[39m(\n\u001b[1;32m   1156\u001b[0m     \u001b[38;5;28mself\u001b[39m, pat, case: \u001b[38;5;28mbool\u001b[39m \u001b[38;5;241m=\u001b[39m \u001b[38;5;28;01mTrue\u001b[39;00m, flags: \u001b[38;5;28mint\u001b[39m \u001b[38;5;241m=\u001b[39m \u001b[38;5;241m0\u001b[39m, na\u001b[38;5;241m=\u001b[39m\u001b[38;5;28;01mNone\u001b[39;00m, regex: \u001b[38;5;28mbool\u001b[39m \u001b[38;5;241m=\u001b[39m \u001b[38;5;28;01mTrue\u001b[39;00m\n\u001b[1;32m   1157\u001b[0m ):\n\u001b[1;32m   1158\u001b[0m \u001b[38;5;250m    \u001b[39m\u001b[38;5;124mr\u001b[39m\u001b[38;5;124;03m\"\"\"\u001b[39;00m\n\u001b[1;32m   1159\u001b[0m \u001b[38;5;124;03m    Test if pattern or regex is contained within a string of a Series or Index.\u001b[39;00m\n\u001b[1;32m   1160\u001b[0m \n\u001b[0;32m   (...)\u001b[0m\n\u001b[1;32m   1279\u001b[0m \u001b[38;5;124;03m    dtype: bool\u001b[39;00m\n\u001b[1;32m   1280\u001b[0m \u001b[38;5;124;03m    \"\"\"\u001b[39;00m\n\u001b[0;32m-> 1281\u001b[0m     \u001b[38;5;28;01mif\u001b[39;00m regex \u001b[38;5;129;01mand\u001b[39;00m \u001b[43mre\u001b[49m\u001b[38;5;241;43m.\u001b[39;49m\u001b[43mcompile\u001b[49m\u001b[43m(\u001b[49m\u001b[43mpat\u001b[49m\u001b[43m)\u001b[49m\u001b[38;5;241m.\u001b[39mgroups:\n\u001b[1;32m   1282\u001b[0m         warnings\u001b[38;5;241m.\u001b[39mwarn(\n\u001b[1;32m   1283\u001b[0m             \u001b[38;5;124m\"\u001b[39m\u001b[38;5;124mThis pattern is interpreted as a regular expression, and has \u001b[39m\u001b[38;5;124m\"\u001b[39m\n\u001b[1;32m   1284\u001b[0m             \u001b[38;5;124m\"\u001b[39m\u001b[38;5;124mmatch groups. To actually get the groups, use str.extract.\u001b[39m\u001b[38;5;124m\"\u001b[39m,\n\u001b[1;32m   1285\u001b[0m             \u001b[38;5;167;01mUserWarning\u001b[39;00m,\n\u001b[1;32m   1286\u001b[0m             stacklevel\u001b[38;5;241m=\u001b[39mfind_stack_level(),\n\u001b[1;32m   1287\u001b[0m         )\n\u001b[1;32m   1289\u001b[0m     result \u001b[38;5;241m=\u001b[39m \u001b[38;5;28mself\u001b[39m\u001b[38;5;241m.\u001b[39m_data\u001b[38;5;241m.\u001b[39marray\u001b[38;5;241m.\u001b[39m_str_contains(pat, case, flags, na, regex)\n",
      "File \u001b[0;32m/usr/lib/python3.8/re.py:252\u001b[0m, in \u001b[0;36mcompile\u001b[0;34m(pattern, flags)\u001b[0m\n\u001b[1;32m    250\u001b[0m \u001b[38;5;28;01mdef\u001b[39;00m \u001b[38;5;21mcompile\u001b[39m(pattern, flags\u001b[38;5;241m=\u001b[39m\u001b[38;5;241m0\u001b[39m):\n\u001b[1;32m    251\u001b[0m     \u001b[38;5;124m\"\u001b[39m\u001b[38;5;124mCompile a regular expression pattern, returning a Pattern object.\u001b[39m\u001b[38;5;124m\"\u001b[39m\n\u001b[0;32m--> 252\u001b[0m     \u001b[38;5;28;01mreturn\u001b[39;00m \u001b[43m_compile\u001b[49m\u001b[43m(\u001b[49m\u001b[43mpattern\u001b[49m\u001b[43m,\u001b[49m\u001b[43m \u001b[49m\u001b[43mflags\u001b[49m\u001b[43m)\u001b[49m\n",
      "File \u001b[0;32m/usr/lib/python3.8/re.py:304\u001b[0m, in \u001b[0;36m_compile\u001b[0;34m(pattern, flags)\u001b[0m\n\u001b[1;32m    302\u001b[0m \u001b[38;5;28;01mif\u001b[39;00m \u001b[38;5;129;01mnot\u001b[39;00m sre_compile\u001b[38;5;241m.\u001b[39misstring(pattern):\n\u001b[1;32m    303\u001b[0m     \u001b[38;5;28;01mraise\u001b[39;00m \u001b[38;5;167;01mTypeError\u001b[39;00m(\u001b[38;5;124m\"\u001b[39m\u001b[38;5;124mfirst argument must be string or compiled pattern\u001b[39m\u001b[38;5;124m\"\u001b[39m)\n\u001b[0;32m--> 304\u001b[0m p \u001b[38;5;241m=\u001b[39m \u001b[43msre_compile\u001b[49m\u001b[38;5;241;43m.\u001b[39;49m\u001b[43mcompile\u001b[49m\u001b[43m(\u001b[49m\u001b[43mpattern\u001b[49m\u001b[43m,\u001b[49m\u001b[43m \u001b[49m\u001b[43mflags\u001b[49m\u001b[43m)\u001b[49m\n\u001b[1;32m    305\u001b[0m \u001b[38;5;28;01mif\u001b[39;00m \u001b[38;5;129;01mnot\u001b[39;00m (flags \u001b[38;5;241m&\u001b[39m DEBUG):\n\u001b[1;32m    306\u001b[0m     \u001b[38;5;28;01mif\u001b[39;00m \u001b[38;5;28mlen\u001b[39m(_cache) \u001b[38;5;241m>\u001b[39m\u001b[38;5;241m=\u001b[39m _MAXCACHE:\n\u001b[1;32m    307\u001b[0m         \u001b[38;5;66;03m# Drop the oldest item\u001b[39;00m\n",
      "File \u001b[0;32m/usr/lib/python3.8/sre_compile.py:764\u001b[0m, in \u001b[0;36mcompile\u001b[0;34m(p, flags)\u001b[0m\n\u001b[1;32m    762\u001b[0m \u001b[38;5;28;01mif\u001b[39;00m isstring(p):\n\u001b[1;32m    763\u001b[0m     pattern \u001b[38;5;241m=\u001b[39m p\n\u001b[0;32m--> 764\u001b[0m     p \u001b[38;5;241m=\u001b[39m \u001b[43msre_parse\u001b[49m\u001b[38;5;241;43m.\u001b[39;49m\u001b[43mparse\u001b[49m\u001b[43m(\u001b[49m\u001b[43mp\u001b[49m\u001b[43m,\u001b[49m\u001b[43m \u001b[49m\u001b[43mflags\u001b[49m\u001b[43m)\u001b[49m\n\u001b[1;32m    765\u001b[0m \u001b[38;5;28;01melse\u001b[39;00m:\n\u001b[1;32m    766\u001b[0m     pattern \u001b[38;5;241m=\u001b[39m \u001b[38;5;28;01mNone\u001b[39;00m\n",
      "File \u001b[0;32m/usr/lib/python3.8/sre_parse.py:948\u001b[0m, in \u001b[0;36mparse\u001b[0;34m(str, flags, state)\u001b[0m\n\u001b[1;32m    945\u001b[0m state\u001b[38;5;241m.\u001b[39mstr \u001b[38;5;241m=\u001b[39m \u001b[38;5;28mstr\u001b[39m\n\u001b[1;32m    947\u001b[0m \u001b[38;5;28;01mtry\u001b[39;00m:\n\u001b[0;32m--> 948\u001b[0m     p \u001b[38;5;241m=\u001b[39m \u001b[43m_parse_sub\u001b[49m\u001b[43m(\u001b[49m\u001b[43msource\u001b[49m\u001b[43m,\u001b[49m\u001b[43m \u001b[49m\u001b[43mstate\u001b[49m\u001b[43m,\u001b[49m\u001b[43m \u001b[49m\u001b[43mflags\u001b[49m\u001b[43m \u001b[49m\u001b[38;5;241;43m&\u001b[39;49m\u001b[43m \u001b[49m\u001b[43mSRE_FLAG_VERBOSE\u001b[49m\u001b[43m,\u001b[49m\u001b[43m \u001b[49m\u001b[38;5;241;43m0\u001b[39;49m\u001b[43m)\u001b[49m\n\u001b[1;32m    949\u001b[0m \u001b[38;5;28;01mexcept\u001b[39;00m Verbose:\n\u001b[1;32m    950\u001b[0m     \u001b[38;5;66;03m# the VERBOSE flag was switched on inside the pattern.  to be\u001b[39;00m\n\u001b[1;32m    951\u001b[0m     \u001b[38;5;66;03m# on the safe side, we'll parse the whole thing again...\u001b[39;00m\n\u001b[1;32m    952\u001b[0m     state \u001b[38;5;241m=\u001b[39m State()\n",
      "File \u001b[0;32m/usr/lib/python3.8/sre_parse.py:443\u001b[0m, in \u001b[0;36m_parse_sub\u001b[0;34m(source, state, verbose, nested)\u001b[0m\n\u001b[1;32m    441\u001b[0m start \u001b[38;5;241m=\u001b[39m source\u001b[38;5;241m.\u001b[39mtell()\n\u001b[1;32m    442\u001b[0m \u001b[38;5;28;01mwhile\u001b[39;00m \u001b[38;5;28;01mTrue\u001b[39;00m:\n\u001b[0;32m--> 443\u001b[0m     itemsappend(\u001b[43m_parse\u001b[49m\u001b[43m(\u001b[49m\u001b[43msource\u001b[49m\u001b[43m,\u001b[49m\u001b[43m \u001b[49m\u001b[43mstate\u001b[49m\u001b[43m,\u001b[49m\u001b[43m \u001b[49m\u001b[43mverbose\u001b[49m\u001b[43m,\u001b[49m\u001b[43m \u001b[49m\u001b[43mnested\u001b[49m\u001b[43m \u001b[49m\u001b[38;5;241;43m+\u001b[39;49m\u001b[43m \u001b[49m\u001b[38;5;241;43m1\u001b[39;49m\u001b[43m,\u001b[49m\n\u001b[1;32m    444\u001b[0m \u001b[43m                       \u001b[49m\u001b[38;5;129;43;01mnot\u001b[39;49;00m\u001b[43m \u001b[49m\u001b[43mnested\u001b[49m\u001b[43m \u001b[49m\u001b[38;5;129;43;01mand\u001b[39;49;00m\u001b[43m \u001b[49m\u001b[38;5;129;43;01mnot\u001b[39;49;00m\u001b[43m \u001b[49m\u001b[43mitems\u001b[49m\u001b[43m)\u001b[49m)\n\u001b[1;32m    445\u001b[0m     \u001b[38;5;28;01mif\u001b[39;00m \u001b[38;5;129;01mnot\u001b[39;00m sourcematch(\u001b[38;5;124m\"\u001b[39m\u001b[38;5;124m|\u001b[39m\u001b[38;5;124m\"\u001b[39m):\n\u001b[1;32m    446\u001b[0m         \u001b[38;5;28;01mbreak\u001b[39;00m\n",
      "File \u001b[0;32m/usr/lib/python3.8/sre_parse.py:836\u001b[0m, in \u001b[0;36m_parse\u001b[0;34m(source, state, verbose, nested, first)\u001b[0m\n\u001b[1;32m    834\u001b[0m p \u001b[38;5;241m=\u001b[39m _parse_sub(source, state, sub_verbose, nested \u001b[38;5;241m+\u001b[39m \u001b[38;5;241m1\u001b[39m)\n\u001b[1;32m    835\u001b[0m \u001b[38;5;28;01mif\u001b[39;00m \u001b[38;5;129;01mnot\u001b[39;00m source\u001b[38;5;241m.\u001b[39mmatch(\u001b[38;5;124m\"\u001b[39m\u001b[38;5;124m)\u001b[39m\u001b[38;5;124m\"\u001b[39m):\n\u001b[0;32m--> 836\u001b[0m     \u001b[38;5;28;01mraise\u001b[39;00m source\u001b[38;5;241m.\u001b[39merror(\u001b[38;5;124m\"\u001b[39m\u001b[38;5;124mmissing ), unterminated subpattern\u001b[39m\u001b[38;5;124m\"\u001b[39m,\n\u001b[1;32m    837\u001b[0m                        source\u001b[38;5;241m.\u001b[39mtell() \u001b[38;5;241m-\u001b[39m start)\n\u001b[1;32m    838\u001b[0m \u001b[38;5;28;01mif\u001b[39;00m group \u001b[38;5;129;01mis\u001b[39;00m \u001b[38;5;129;01mnot\u001b[39;00m \u001b[38;5;28;01mNone\u001b[39;00m:\n\u001b[1;32m    839\u001b[0m     state\u001b[38;5;241m.\u001b[39mclosegroup(group, p)\n",
      "\u001b[0;31merror\u001b[0m: missing ), unterminated subpattern at position 0"
     ]
    }
   ],
   "source": [
    "responses = []\n",
    "\n",
    "filtered_labels = filter_label_by_substring(owl_df, \"hearsay\")\n",
    "\n",
    "for i, prompt_text in enumerate(prompts):\n",
    "\n",
    "    full_prompt = add_labels_and_definitions_to_prompt(prompt_text)\n",
    "\n",
    "    response = get_llama_response(full_prompt,tokenizer,model)\n",
    "    \n",
    "    responses.append(response)\n",
    "    \n",
    "    print(f\"Done for prompt {i+1}\")\n",
    "    # print(response)\n"
   ]
  },
  {
   "cell_type": "code",
   "execution_count": 75,
   "metadata": {},
   "outputs": [
    {
     "name": "stdout",
     "output_type": "stream",
     "text": [
      " No</s>\n",
      " No</s>\n",
      " No</s>\n",
      " No</s>\n",
      " No</s>\n",
      " No</s>\n",
      " No</s>\n",
      " Hearsay</s>\n",
      " No</s>\n",
      " No</s>\n",
      " Hearsay</s>\n",
      " No</s>\n",
      " No</s>\n",
      " No</s>\n",
      " Hearsay</s>\n",
      " Yes</s>\n",
      " Hearsay</s>\n",
      " No</s>\n",
      " Hearsay</s>\n",
      " Yes</s>\n",
      " No</s>\n",
      " Yes</s>\n",
      " Hearsay</s>\n",
      " No</s>\n",
      " Yes</s>\n",
      " No</s>\n",
      " No</s>\n",
      " Hearsay</s>\n",
      " Yes</s>\n",
      " No</s>\n",
      " No</s>\n",
      " No</s>\n",
      " No</s>\n",
      " No</s>\n",
      " No</s>\n",
      " No</s>\n",
      " No</s>\n",
      " No</s>\n",
      " No</s>\n",
      " Hearsay</s>\n",
      " No</s>\n",
      " Hearsay</s>\n",
      " No</s>\n",
      " Hearsay</s>\n",
      " Hearsay: No, the statement is not hearsay. The statement is based on a document, an email to a mother explaining how her daughter was planning on purchasing a red car. The email is a primary source of information, and the statement is based on the information in the email.</s>\n",
      " No</s>\n",
      " Hearsay</s>\n",
      " No</s>\n",
      " Hearsay</s>\n",
      " Yes: ['Motion in Limine to Exclude Hearsay Witness : A Motion in Limine to Exclude Hearsay Witness is a legal request made by one party to prevent the other party from presenting testimony from a witness who will testify about statements made by someone else out of court, which are being offered to prove the truth of the matter asserted.', 'Motion to Exclude Hearsay Witness : A Motion to Exclude Hearsay Witness is a legal request to prevent a witness from testifying in court based on the fact that their testimony is based on hearsay evidence.']\n",
      "No: ['Motion in Limine to Exclude Hearsay Witness : A Motion in Limine to Exclude Hearsay Witness is a legal request made by one party to prevent the other party from presenting testimony from a witness who will testify about statements made by someone else out of court, which are being offered to prove the truth of the matter asserted.', 'Motion to Exclude Hearsay Witness : A Motion to Exclude Hearsay Witness is a legal request to prevent a witness from testifying in court based on the fact that their testimony is based on hearsay evidence.', 'Motion to Exclude Hearsay Witness : A Motion to Exclude Hearsay Witness : A Motion to Exclude Hearsay Witness : A Motion to Exclude Hearsay Witness : A Motion to Exclude Hearsay Witness : A Motion to Exclude Hearsay Witness : A Motion to Exclude Hearsay Witness : A Motion to Exclude Hearsay Witness : A Motion to Exclude Hearsay Witness : A Motion to Exclude Hearsay Witness : A Motion to Exclude Hearsay Witness : A Motion to Hearsay : A Motion to Exclude to the witness : A Motion to A Motion to A : A Motion to A : A : A : A : A : A : A : A : A : A : A : A : A : A : A : A : A : A : A : A : A : A : A : A : A : A : A : A : A : A : A : A : A : A : A : A : A : A : A : A : A : A : A : A, A : A : A : A, A, A, A, A, A, A, A, A, A, A, A, A, A, A, A, A, A, A, A, A, A, A, A, A, A, A, A, A, A, A, A, A, A, A, A, A, A, A, A, A, A, A, A, A, A, A, A, A, A, A, A, A, A, A, A, A, A, A, A, A, A, A, A, A, A, A, A, A, A, A, A, A, A, A, A, A, A, A, A, A, A, A, A, A, A, A, A, A, A, A, A, A, A, A, A, A, A, A, A, A, A, A, A, A, A\n",
      "</s>\n",
      " Hearsay</s>\n",
      " No</s>\n",
      " Hearsay</s>\n",
      " No</s>\n",
      "s, Hs,s, a, the,s, the.s,s,s,, the,s, the, the, the, the, and and the to, the,s,s, the,s, the, the,,,s, one,, the the,,,,, to,,,,,,,s, H, and, to the, and, to,,,,,,,, in in to to to the the the or, tos,,,,,s,,,,, to,,,,,, the,,, the,, the the the,s,s, the,,,,,,,,,,,,,,s,,,,,,s, the,, the, the,,, the the the the the, and, the,,,,,, the,,,,,,,,,,s, the,,,,,,,,,,,s,,,,,,,,,,, to,,,,,,,,,,,, to,,, the,,,,, or or for, for,,,, for for for for for for for, for, for, for,,,, to, for, for,,,,,,,,,,,,,,,,,,,,,s,,, for, for for,,,, and,s,,, which, which,,,,,,. and.s,. the. and,,s, a a, the, the,,,,s, or. H, to to,,, H, to,,, and, For, the,,\n",
      "The, the, their,s, their,,,,,,,,,, to, to,,,,s,,,,, to,,,, the, to,,,,,,,,,,,,,,,,, for,,,, and, to,,, for,s, to, to, to, the, the, the. the, or, to to. for, and and and or,s, to, and,,, and, to,,,,,s, or,.\n",
      "s, the,, and,s,\n",
      "\n",
      "s,,,, its,,, to,,,,s, to,,s, to,,,, for,s, and, or,,,,,, and,,,, and, and, and, and, and,,,,,,,,,, and,s, the,s,s,,,,,,,. and, for,s,s,s,s,s, or, or,,,, or, or. and, and or or or or. or or or,.. H,. and..., or, and and..y,... A. to,,,,s, to, to,s,.s,,,s,.s,,, to to,,, to,s,,,,,,,,, and, and,,,,,,,,,, to,,, and to,,,,,,,, and, or,,, to,,, to, and, and, and, and,, the or, to,,,,. to,,. the United, and,,,,,,,,,,,,,,,,, to, to, to, to,,,,, to, to,, to, to,,,,,,,, and,,,,,,,,,s,,,,,,,,,,, to,,,,.. to,..,..,,,,,,,,,,,,,,,,,,,,,,,,,,,,,,,,,, the to, and, and,, to, and,,,, or or,,,,,,,,,, and, and,,,, to, and, and,,,,, and and and and and, to, and, and,,,, to, to, to, and, to, to, to, to,,,,, or or,,, to, or or, to to, to,,, to, and to to to to, to, and,, to, to,,,, or,,,,,, to to to to to to to, to,, to, and,,, to, and, to,,, to,,,, or,,,,,, to,,,,,, to,,,,, to, to to to to to to\n",
      " Hearsay</s>\n",
      " No</s>\n",
      " No</s>\n",
      " No</s>\n",
      " No</s>\n",
      " No</s>\n",
      " No</s>\n",
      " No</s>\n",
      " No</s>\n",
      " Hearsay</s>\n",
      " Hearsay</s>\n",
      " No</s>\n",
      " No</s>\n",
      " No</s>\n",
      " No</s>\n",
      " No</s>\n",
      "s,s, thes,s,s, the,s, the, the,s, to, the,s,s, to the to a to the.s, the, the,s, and, and, and,s, for,\n",
      "s,ll, the. the.s. the.s that, the one,\n",
      "s,s,s, to, to, the, to, to to to to, the, H:s, the the, to, to,,,,,,,,s, H,, and,s, and,s,s, H,s, the, to, to, to, to,s,s to one,:s,s,s.s.s, the.s,s,s,s,s,s,s,s,s,s,s,s, H,s,s,s,,s, H,,,,,,,, to to to, H,,\n",
      "s,,,,,,,, one,,,, in,,,,,oring,., theail,,. H.s.., H,:s,,,,,,by,,,,,,,. to,oring.s,.,.s,.\n",
      "s.s. the. he.s. and. H. Hs, H,s,s,,,,,,,,.. H..s,s,,,,,. The,,,,,,,s,s,,,,s,,s,s,s,,,,,s,,,,,,,,,,,s,,,,,s,,\n",
      "\n",
      ",,,,,,,,,,,,,,s,s,,, in,s,s, for.s,s,s, and, or, or, or.\n",
      "s.s,s,s,sens.s, the,s,,, to,s.s and.s and to to,. to.s,s,\n",
      "s, to,. and.s.\n",
      " and ands.s.s.\n",
      "s.s.\n",
      "s.s.s.s.s,s.\n",
      "s,s,s, or or or the, the.s,s,\n",
      "s,s,. The,,s,,. H.\n",
      "s,,,,\n",
      "\n",
      "s,,,,s,s,s,s,s. The.s,s,\n",
      "s,s,s. or, H. the. H, to, to, H.,s, and,.s.s,s,,s.s. The. The.s.\n",
      "s, and, and. and,s, or, and and.s, and,, and,s,\n",
      "s,s, to,\n",
      "s,s,s,\n",
      "s,\n",
      " The, and, to, to, and,s,s,s,s, the information,s,s, the,,,s,s, and, for,,,,s, for, for,,, to, to, to, and,,,,,,s,,,,,, a, The, and, and, The,,,,,,, the statement, and,,,,,,, to, and.\n",
      "\n",
      "The,\n",
      " or but, but, but,s, to, to, and to, to, the request, to, to to. to, to to to.\n",
      " to, to to to the but, the,\n",
      "s, and, H,,,s, or, or,, the,,,,,,,,,, to. H. H, that to,,, and, the, to, and the, the from, the. or. or,. a.s to to to,,,,,,,, the, the, the, the,s, to, to. or. The,s,, to, and, from,,, to, to, to, the,s. and the. The, to. The, to, or, the, the, or, or, O.\n",
      "s,s, or. the, to. the, the, to to to to to. to, to, to to. to.\n",
      "sent. the. the.\n",
      "O. the. the.\n",
      "\n",
      " to. to to. to. to.s.s. to to.s and, and, to to, to. to.s. a.s.s.s.s.\n",
      "O.\n",
      "s. to, or, the.s. and.\n",
      " to, or, or, the,s,s,\n",
      "s, and and and and, and,s to, to, to.\n",
      "s. to. to. to. to. the. the.s. or.s.\n",
      "s.\n",
      "s. to to to. The.\n",
      "\n",
      "The to to. andus to to to. and. to to, and. to, and, tous. to.\n",
      "O.s. the or or or or. to,\n",
      "s. for.\n",
      "s, and, the to.s. and. to to to to to to to to to and and and. The.\n",
      "O, the and and to to to the contract, to. It. It to and and and the. the to. It.\n",
      " Hearsay</s>\n",
      " Hearsay</s>\n",
      " Hearsay</s>\n",
      " No</s>\n",
      " No</s>\n",
      " No</s>\n",
      " No</s>\n",
      " No</s>\n",
      " No</s>\n",
      " Hearsay</s>\n",
      " No</s>\n"
     ]
    }
   ],
   "source": [
    "for i in range(len(responses)):\n",
    "    print(responses[i])"
   ]
  },
  {
   "cell_type": "markdown",
   "metadata": {},
   "source": [
    "### Parsing output"
   ]
  },
  {
   "cell_type": "code",
   "execution_count": 76,
   "metadata": {},
   "outputs": [],
   "source": [
    "import random\n",
    "\n",
    "def extract_answers(original_responses):\n",
    "    # Define replacements for specific expected endings\n",
    "    replacements = {\n",
    "        'Hearsay</s>': 'Yes',\n",
    "        'No</s>': 'No'\n",
    "    }\n",
    "    \n",
    "    # Create an empty list to store extracted answers\n",
    "    extracted_answers = []\n",
    "\n",
    "    # Process each response\n",
    "    for response in original_responses:\n",
    "        # Initially assume the response is not matched\n",
    "        matched = False\n",
    "\n",
    "        # Replace specific strings with predefined replacements if they match\n",
    "        for key, value in replacements.items():\n",
    "            if key in response:\n",
    "                response = value\n",
    "                matched = True\n",
    "                break  # Exit the loop once a match is found\n",
    "\n",
    "        # If no predefined response is matched, choose randomly between 'Yes' and 'No'\n",
    "        if not matched:\n",
    "            response = random.choice(['Yes', 'No'])\n",
    "\n",
    "        # Append the modified response to the list\n",
    "        extracted_answers.append(response)\n",
    "\n",
    "    return extracted_answers\n"
   ]
  },
  {
   "cell_type": "code",
   "execution_count": 77,
   "metadata": {},
   "outputs": [],
   "source": [
    "extracted_answers = extract_answers(responses)"
   ]
  },
  {
   "cell_type": "code",
   "execution_count": 78,
   "metadata": {},
   "outputs": [
    {
     "name": "stdout",
     "output_type": "stream",
     "text": [
      "['No', 'No', 'No', 'No', 'No', 'No', 'No', 'Yes', 'No', 'No', 'Yes', 'No', 'No', 'No', 'Yes', 'Yes', 'Yes', 'No', 'Yes', 'No', 'No', 'No', 'Yes', 'No', 'Yes', 'No', 'No', 'Yes', 'Yes', 'No', 'No', 'No', 'No', 'No', 'No', 'No', 'No', 'No', 'No', 'Yes', 'No', 'Yes', 'No', 'Yes', 'No', 'No', 'Yes', 'No', 'Yes', 'No', 'Yes', 'No', 'Yes', 'No', 'Yes', 'Yes', 'No', 'No', 'No', 'No', 'No', 'No', 'No', 'No', 'Yes', 'Yes', 'No', 'No', 'No', 'No', 'No', 'No', 'Yes', 'Yes', 'Yes', 'No', 'No', 'No', 'No', 'No', 'No', 'Yes', 'No']\n"
     ]
    }
   ],
   "source": [
    "print(extracted_answers)"
   ]
  },
  {
   "cell_type": "code",
   "execution_count": 79,
   "metadata": {},
   "outputs": [
    {
     "data": {
      "text/plain": [
       "0.5061188811188811"
      ]
     },
     "execution_count": 79,
     "metadata": {},
     "output_type": "execute_result"
    }
   ],
   "source": [
    "evaluate(\"hearsay\", extracted_answers, test_df[\"answer\"].tolist()[:len(extracted_answers)])"
   ]
  },
  {
   "cell_type": "code",
   "execution_count": null,
   "metadata": {},
   "outputs": [],
   "source": []
  }
 ],
 "metadata": {
  "kernelspec": {
   "display_name": "Python 3",
   "language": "python",
   "name": "python3"
  },
  "language_info": {
   "codemirror_mode": {
    "name": "ipython",
    "version": 3
   },
   "file_extension": ".py",
   "mimetype": "text/x-python",
   "name": "python",
   "nbconvert_exporter": "python",
   "pygments_lexer": "ipython3",
   "version": "3.8.10"
  }
 },
 "nbformat": 4,
 "nbformat_minor": 2
}
