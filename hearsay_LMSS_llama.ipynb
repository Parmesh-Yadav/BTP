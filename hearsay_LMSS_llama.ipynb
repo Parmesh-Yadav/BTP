{
 "cells": [
  {
   "cell_type": "markdown",
   "metadata": {},
   "source": [
    "# Imports"
   ]
  },
  {
   "cell_type": "code",
   "execution_count": 1,
   "metadata": {},
   "outputs": [
    {
     "name": "stderr",
     "output_type": "stream",
     "text": [
      "/home/ojasva20318/.local/lib/python3.8/site-packages/tqdm/auto.py:21: TqdmWarning: IProgress not found. Please update jupyter and ipywidgets. See https://ipywidgets.readthedocs.io/en/stable/user_install.html\n",
      "  from .autonotebook import tqdm as notebook_tqdm\n",
      "2024-04-17 06:43:24.142104: I tensorflow/core/platform/cpu_feature_guard.cc:182] This TensorFlow binary is optimized to use available CPU instructions in performance-critical operations.\n",
      "To enable the following instructions: AVX2 FMA, in other operations, rebuild TensorFlow with the appropriate compiler flags.\n",
      "2024-04-17 06:43:27.160883: W tensorflow/compiler/tf2tensorrt/utils/py_utils.cc:38] TF-TRT Warning: Could not find TensorRT\n"
     ]
    }
   ],
   "source": [
    "import datasets\n",
    "from bs4 import BeautifulSoup\n",
    "import pandas as pd\n",
    "from transformers import AutoModelForCausalLM, AutoTokenizer, pipeline\n",
    "import torch\n",
    "import re\n",
    "from evaluation import evaluate"
   ]
  },
  {
   "cell_type": "markdown",
   "metadata": {},
   "source": [
    "# Constants"
   ]
  },
  {
   "cell_type": "code",
   "execution_count": 2,
   "metadata": {},
   "outputs": [],
   "source": [
    "PATH_TO_OWL = './LMSS.owl'\n",
    "LLM_PATH = '../Llama-2-7b-chat-hf'"
   ]
  },
  {
   "cell_type": "markdown",
   "metadata": {},
   "source": [
    "# Set up Llama"
   ]
  },
  {
   "cell_type": "code",
   "execution_count": 3,
   "metadata": {},
   "outputs": [
    {
     "name": "stderr",
     "output_type": "stream",
     "text": [
      "Loading checkpoint shards: 100%|██████████| 6/6 [02:38<00:00, 26.41s/it]\n"
     ]
    }
   ],
   "source": [
    "model = AutoModelForCausalLM.from_pretrained(LLM_PATH)\n",
    "tokenizer = AutoTokenizer.from_pretrained(LLM_PATH)"
   ]
  },
  {
   "cell_type": "code",
   "execution_count": 4,
   "metadata": {},
   "outputs": [],
   "source": [
    "pipe = pipeline('text-generation', model=model, tokenizer=tokenizer,torch_dtype=torch.float16,device=0)"
   ]
  },
  {
   "cell_type": "code",
   "execution_count": 5,
   "metadata": {},
   "outputs": [],
   "source": [
    "def get_llama_response(prompt):\n",
    "    sequences = pipe(\n",
    "        prompt,\n",
    "        do_sample=True,\n",
    "        top_k=10,\n",
    "        num_return_sequences=1,\n",
    "        eos_token_id=tokenizer.eos_token_id\n",
    "        # max_length=256,\n",
    "        # truncation=True\n",
    "    )\n",
    "    return sequences[0]['generated_text']"
   ]
  },
  {
   "cell_type": "code",
   "execution_count": 6,
   "metadata": {},
   "outputs": [
    {
     "name": "stdout",
     "output_type": "stream",
     "text": [
      "Write me a poem about Machine Learning.\n",
      "\n",
      "Machine learning, a wondrous sight\n",
      "A world of data, a world of might\n",
      "With algorithms and models so bright\n",
      "It learns and grows, day and night\n",
      "\n",
      "It starts with a problem, a challenge to solve\n",
      "A task to complete, a goal to unfold\n",
      "It gathers data, a treasure so grand\n",
      "And learns from it, hand in hand\n",
      "\n",
      "With each new lesson, it grows in might\n",
      "A force to be reckoned with, a sight\n",
      "It adapts and evolves, a true delight\n",
      "A marvel of science, a work of art in sight\n",
      "\n",
      "It's a world of wonder, a world of dreams\n",
      "A future of possibilities, it seems\n",
      "Machine learning, a true machine\n",
      "A world of magic, a world of gleam.\n"
     ]
    }
   ],
   "source": [
    "#example\n",
    "prompt = '''Write me a poem about Machine Learning.'''\n",
    "answer = get_llama_response(prompt)\n",
    "print(answer)"
   ]
  },
  {
   "cell_type": "markdown",
   "metadata": {},
   "source": [
    "# Reading OWL"
   ]
  },
  {
   "cell_type": "code",
   "execution_count": 7,
   "metadata": {},
   "outputs": [],
   "source": [
    "# Read the contents of the .owl file\n",
    "with open(PATH_TO_OWL, \"r\") as owl_file:\n",
    "    owl_data = owl_file.read()\n",
    "\n",
    "# Parse the OWL data using BeautifulSoup\n",
    "soup = BeautifulSoup(owl_data, 'xml')"
   ]
  },
  {
   "cell_type": "code",
   "execution_count": 8,
   "metadata": {},
   "outputs": [
    {
     "data": {
      "text/html": [
       "<div>\n",
       "<style scoped>\n",
       "    .dataframe tbody tr th:only-of-type {\n",
       "        vertical-align: middle;\n",
       "    }\n",
       "\n",
       "    .dataframe tbody tr th {\n",
       "        vertical-align: top;\n",
       "    }\n",
       "\n",
       "    .dataframe thead th {\n",
       "        text-align: right;\n",
       "    }\n",
       "</style>\n",
       "<table border=\"1\" class=\"dataframe\">\n",
       "  <thead>\n",
       "    <tr style=\"text-align: right;\">\n",
       "      <th></th>\n",
       "      <th>Label</th>\n",
       "      <th>Definition</th>\n",
       "    </tr>\n",
       "  </thead>\n",
       "  <tbody>\n",
       "    <tr>\n",
       "      <th>0</th>\n",
       "      <td>Other Personal and Household Goods Repair and ...</td>\n",
       "      <td>See industry description for 811490.</td>\n",
       "    </tr>\n",
       "    <tr>\n",
       "      <th>1</th>\n",
       "      <td>Other Converted Paper Product Manufacturing</td>\n",
       "      <td>This industry comprises establishments primari...</td>\n",
       "    </tr>\n",
       "    <tr>\n",
       "      <th>2</th>\n",
       "      <td>General Medical and Surgical Hospitals</td>\n",
       "      <td>NULL</td>\n",
       "    </tr>\n",
       "    <tr>\n",
       "      <th>3</th>\n",
       "      <td>Confectionery Merchant Wholesalers</td>\n",
       "      <td>This industry comprises establishments primari...</td>\n",
       "    </tr>\n",
       "    <tr>\n",
       "      <th>4</th>\n",
       "      <td>Other Specialized Design Services</td>\n",
       "      <td>See industry description for 541490.</td>\n",
       "    </tr>\n",
       "    <tr>\n",
       "      <th>...</th>\n",
       "      <td>...</td>\n",
       "      <td>...</td>\n",
       "    </tr>\n",
       "    <tr>\n",
       "      <th>14248</th>\n",
       "      <td>Vocational Rehabilitation Services</td>\n",
       "      <td>NULL</td>\n",
       "    </tr>\n",
       "    <tr>\n",
       "      <th>14249</th>\n",
       "      <td>Books Printing</td>\n",
       "      <td>This U.S. industry comprises establishments pr...</td>\n",
       "    </tr>\n",
       "    <tr>\n",
       "      <th>14250</th>\n",
       "      <td>Petrochemical Manufacturing</td>\n",
       "      <td>See industry description for 325110.</td>\n",
       "    </tr>\n",
       "    <tr>\n",
       "      <th>14251</th>\n",
       "      <td>Pesticide and Other Agricultural Chemical Manu...</td>\n",
       "      <td>This industry comprises establishments primari...</td>\n",
       "    </tr>\n",
       "    <tr>\n",
       "      <th>14252</th>\n",
       "      <td>oasis:agent</td>\n",
       "      <td>An \"oasis:agent\" is a type of agent or actor w...</td>\n",
       "    </tr>\n",
       "  </tbody>\n",
       "</table>\n",
       "<p>14253 rows × 2 columns</p>\n",
       "</div>"
      ],
      "text/plain": [
       "                                                   Label  \\\n",
       "0      Other Personal and Household Goods Repair and ...   \n",
       "1            Other Converted Paper Product Manufacturing   \n",
       "2                 General Medical and Surgical Hospitals   \n",
       "3                     Confectionery Merchant Wholesalers   \n",
       "4                      Other Specialized Design Services   \n",
       "...                                                  ...   \n",
       "14248                 Vocational Rehabilitation Services   \n",
       "14249                                     Books Printing   \n",
       "14250                        Petrochemical Manufacturing   \n",
       "14251  Pesticide and Other Agricultural Chemical Manu...   \n",
       "14252                                        oasis:agent   \n",
       "\n",
       "                                              Definition  \n",
       "0                   See industry description for 811490.  \n",
       "1      This industry comprises establishments primari...  \n",
       "2                                                   NULL  \n",
       "3      This industry comprises establishments primari...  \n",
       "4                   See industry description for 541490.  \n",
       "...                                                  ...  \n",
       "14248                                               NULL  \n",
       "14249  This U.S. industry comprises establishments pr...  \n",
       "14250               See industry description for 325110.  \n",
       "14251  This industry comprises establishments primari...  \n",
       "14252  An \"oasis:agent\" is a type of agent or actor w...  \n",
       "\n",
       "[14253 rows x 2 columns]"
      ]
     },
     "execution_count": 8,
     "metadata": {},
     "output_type": "execute_result"
    }
   ],
   "source": [
    "# Initialize lists to store data\n",
    "labels = []\n",
    "definitions = []\n",
    "\n",
    "# Find all instances of <owl:Class> elements and extract label and definition\n",
    "for owl_class in soup.find_all('owl:Class'):\n",
    "    label_element = owl_class.find('rdfs:label')\n",
    "    definition_element = owl_class.find('skos:definition')\n",
    "    \n",
    "    # Check if label and definition elements exist\n",
    "    if label_element and definition_element:\n",
    "        label = label_element.text.strip()\n",
    "        definition = definition_element.text.strip()\n",
    "        \n",
    "        # Append data to lists\n",
    "        labels.append(label)\n",
    "        definitions.append(definition)\n",
    "\n",
    "data = {'Label': labels, 'Definition': definitions}\n",
    "owl_df = pd.DataFrame(data)\n",
    "\n",
    "owl_df"
   ]
  },
  {
   "cell_type": "markdown",
   "metadata": {},
   "source": [
    "### Function to get classes"
   ]
  },
  {
   "cell_type": "code",
   "execution_count": 9,
   "metadata": {},
   "outputs": [],
   "source": [
    "def filter_label_by_substring(df, substring):\n",
    "    \"\"\"\n",
    "    Filter DataFrame rows containing the specified substring in the 'Label' column\n",
    "    and return a list of strings in the format \"{Label} : {Definition}\".\n",
    "    \n",
    "    Args:\n",
    "        df (pandas.DataFrame): Input DataFrame.\n",
    "        substring (str): Substring to search for.\n",
    "        \n",
    "    Returns:\n",
    "        list: List of strings in the format \"{Label} : {Definition}\" for matching rows.\n",
    "    \"\"\"\n",
    "    filtered_df = df[df['Label'].str.contains(substring, case=False)]\n",
    "    output_list = []\n",
    "    for index, row in filtered_df.iterrows():\n",
    "        output_list.append(f\"{row['Label']} : {row['Definition']}\")\n",
    "    return output_list\n"
   ]
  },
  {
   "cell_type": "code",
   "execution_count": 10,
   "metadata": {},
   "outputs": [
    {
     "name": "stdout",
     "output_type": "stream",
     "text": [
      "['Motion in Limine to Exclude Hearsay Witness : A Motion in Limine to Exclude Hearsay Witness is a legal request made by one party to prevent the other party from presenting testimony from a witness who will testify about statements made by someone else out of court, which are being offered to prove the truth of the matter asserted.', 'Motion to Exclude Hearsay Witness : A Motion to Exclude Hearsay Witness is a legal request to prevent a witness from testifying in court based on the fact that their testimony is based on hearsay evidence.']\n"
     ]
    }
   ],
   "source": [
    "#example usage\n",
    "search_substring = 'hearsay'\n",
    "result = filter_label_by_substring(owl_df, search_substring)\n",
    "print(result)"
   ]
  },
  {
   "cell_type": "markdown",
   "metadata": {},
   "source": [
    "# Dataset"
   ]
  },
  {
   "cell_type": "code",
   "execution_count": 11,
   "metadata": {},
   "outputs": [
    {
     "name": "stderr",
     "output_type": "stream",
     "text": [
      "/home/ojasva20318/.local/lib/python3.8/site-packages/datasets/load.py:1454: FutureWarning: The repository for nguha/legalbench contains custom code which must be executed to correctly load the dataset. You can inspect the repository content at https://hf.co/datasets/nguha/legalbench\n",
      "You can avoid this message in future by passing the argument `trust_remote_code=True`.\n",
      "Passing `trust_remote_code=True` will be mandatory to load this dataset from the next major release of `datasets`.\n",
      "  warnings.warn(\n"
     ]
    }
   ],
   "source": [
    "dataset_hearsay = datasets.load_dataset(\"nguha/legalbench\", \"hearsay\")"
   ]
  },
  {
   "cell_type": "code",
   "execution_count": 12,
   "metadata": {},
   "outputs": [
    {
     "data": {
      "text/html": [
       "<div>\n",
       "<style scoped>\n",
       "    .dataframe tbody tr th:only-of-type {\n",
       "        vertical-align: middle;\n",
       "    }\n",
       "\n",
       "    .dataframe tbody tr th {\n",
       "        vertical-align: top;\n",
       "    }\n",
       "\n",
       "    .dataframe thead th {\n",
       "        text-align: right;\n",
       "    }\n",
       "</style>\n",
       "<table border=\"1\" class=\"dataframe\">\n",
       "  <thead>\n",
       "    <tr style=\"text-align: right;\">\n",
       "      <th></th>\n",
       "      <th>answer</th>\n",
       "      <th>index</th>\n",
       "      <th>slice</th>\n",
       "      <th>text</th>\n",
       "    </tr>\n",
       "  </thead>\n",
       "  <tbody>\n",
       "    <tr>\n",
       "      <th>0</th>\n",
       "      <td>No</td>\n",
       "      <td>0</td>\n",
       "      <td>Non-assertive conduct</td>\n",
       "      <td>On the issue of whether James is an smart indi...</td>\n",
       "    </tr>\n",
       "    <tr>\n",
       "      <th>1</th>\n",
       "      <td>No</td>\n",
       "      <td>1</td>\n",
       "      <td>Non-assertive conduct</td>\n",
       "      <td>On the issue of whether Robert negligently dro...</td>\n",
       "    </tr>\n",
       "    <tr>\n",
       "      <th>2</th>\n",
       "      <td>No</td>\n",
       "      <td>2</td>\n",
       "      <td>Non-assertive conduct</td>\n",
       "      <td>On the issue of whether John knew about the co...</td>\n",
       "    </tr>\n",
       "    <tr>\n",
       "      <th>3</th>\n",
       "      <td>No</td>\n",
       "      <td>3</td>\n",
       "      <td>Non-assertive conduct</td>\n",
       "      <td>On the issue of whether Michael was guilty of ...</td>\n",
       "    </tr>\n",
       "    <tr>\n",
       "      <th>4</th>\n",
       "      <td>No</td>\n",
       "      <td>4</td>\n",
       "      <td>Non-assertive conduct</td>\n",
       "      <td>On the issue of whether William was loved by h...</td>\n",
       "    </tr>\n",
       "    <tr>\n",
       "      <th>...</th>\n",
       "      <td>...</td>\n",
       "      <td>...</td>\n",
       "      <td>...</td>\n",
       "      <td>...</td>\n",
       "    </tr>\n",
       "    <tr>\n",
       "      <th>89</th>\n",
       "      <td>No</td>\n",
       "      <td>89</td>\n",
       "      <td>Not introduced to prove truth</td>\n",
       "      <td>To prove that Arthur believed that Amy and Dan...</td>\n",
       "    </tr>\n",
       "    <tr>\n",
       "      <th>90</th>\n",
       "      <td>No</td>\n",
       "      <td>90</td>\n",
       "      <td>Not introduced to prove truth</td>\n",
       "      <td>To prove that the trademarks of restaurant A a...</td>\n",
       "    </tr>\n",
       "    <tr>\n",
       "      <th>91</th>\n",
       "      <td>No</td>\n",
       "      <td>91</td>\n",
       "      <td>Not introduced to prove truth</td>\n",
       "      <td>To prove that Michael knew of the existing pat...</td>\n",
       "    </tr>\n",
       "    <tr>\n",
       "      <th>92</th>\n",
       "      <td>No</td>\n",
       "      <td>92</td>\n",
       "      <td>Not introduced to prove truth</td>\n",
       "      <td>To prove that Arthur and Mary had a conversati...</td>\n",
       "    </tr>\n",
       "    <tr>\n",
       "      <th>93</th>\n",
       "      <td>Yes</td>\n",
       "      <td>94</td>\n",
       "      <td>Standard hearsay</td>\n",
       "      <td>On the issue of whether Melissa was the agent ...</td>\n",
       "    </tr>\n",
       "  </tbody>\n",
       "</table>\n",
       "<p>94 rows × 4 columns</p>\n",
       "</div>"
      ],
      "text/plain": [
       "   answer index                          slice  \\\n",
       "0      No     0          Non-assertive conduct   \n",
       "1      No     1          Non-assertive conduct   \n",
       "2      No     2          Non-assertive conduct   \n",
       "3      No     3          Non-assertive conduct   \n",
       "4      No     4          Non-assertive conduct   \n",
       "..    ...   ...                            ...   \n",
       "89     No    89  Not introduced to prove truth   \n",
       "90     No    90  Not introduced to prove truth   \n",
       "91     No    91  Not introduced to prove truth   \n",
       "92     No    92  Not introduced to prove truth   \n",
       "93    Yes    94               Standard hearsay   \n",
       "\n",
       "                                                 text  \n",
       "0   On the issue of whether James is an smart indi...  \n",
       "1   On the issue of whether Robert negligently dro...  \n",
       "2   On the issue of whether John knew about the co...  \n",
       "3   On the issue of whether Michael was guilty of ...  \n",
       "4   On the issue of whether William was loved by h...  \n",
       "..                                                ...  \n",
       "89  To prove that Arthur believed that Amy and Dan...  \n",
       "90  To prove that the trademarks of restaurant A a...  \n",
       "91  To prove that Michael knew of the existing pat...  \n",
       "92  To prove that Arthur and Mary had a conversati...  \n",
       "93  On the issue of whether Melissa was the agent ...  \n",
       "\n",
       "[94 rows x 4 columns]"
      ]
     },
     "execution_count": 12,
     "metadata": {},
     "output_type": "execute_result"
    }
   ],
   "source": [
    "test_df = dataset_hearsay['test'].to_pandas()\n",
    "test_df"
   ]
  },
  {
   "cell_type": "code",
   "execution_count": 13,
   "metadata": {},
   "outputs": [
    {
     "data": {
      "text/plain": [
       "['On the issue of whether James is an smart individual, the fact that James came first in his class in law school.',\n",
       " 'On the issue of whether Robert negligently drove, the fact that Robert fell asleep while driving.',\n",
       " 'On the issue of whether John knew about the conspiracy, the fact that John likes sweatpants.',\n",
       " 'On the issue of whether Michael was guilty of murder, the fact that Michael left the crime scene immediately.',\n",
       " 'On the issue of whether William was loved by his community, the fact that he was selected to speak at his graduation.',\n",
       " 'On the issue of whether Mary robbed the bank, the fact that Mary went to the bank in disguise.',\n",
       " 'On the issue of whether Patricia was a fan of Coldplay, the fact that she had a poster with the lyrics of \"Viva la Vida\" on her bedroom wall.',\n",
       " \"On the issue of whether Jennifer suffered reputational harm from Linda's article, the fact that Linda worked with several different editors to proof read and cross-check her article.\",\n",
       " \"On the issue of whether Elizabeth was misdiagnosed by Barbara, the fact that Barbara didn't consult with her usual charts while assessing Elizabethg.\",\n",
       " 'On the issue of whether Richard had ever visited Chicago, the fact that he gave a speech there in 2005.',\n",
       " 'On the issue of how long Joseph and Thomas had known each other, the fact that were neighbors during elementary school.',\n",
       " 'On the issue of whether Susan was familiar with Shakespeare, the fact that she had once played the role of Macbeth and recieved a standing ovation after her monologue.',\n",
       " 'On the issue of whether Jessica was aware she was trespassing, the fact that Jessica had been diagnosed as near-sighted by her ophthalmologist.',\n",
       " 'On the issue of whether Sarah was acting as an agent for the corporation, the fact that Sarah had worked there previously for four years.',\n",
       " 'On the issue of whether Charles was responsible for the defamatory article published online, the fact that Charles had visited the website responsible for the article multiple times in the past year.',\n",
       " 'On the issue of whether Karen negligently operated the forklift, the fact that Karen is a terrible driver who needed several tries to pass her commercial license test.',\n",
       " \"On the issue of whether the patent was infringed, the fact that the corporation's chief scientist was known to cheat at card games.\",\n",
       " 'On the issue of whether Christopher acted with malice, the fact that Christopher was often moody and had a large temper.',\n",
       " 'On the issue of whether the parties had actually agreed to the contract, the fact that one of the parties had mistaken the identity of the other party.',\n",
       " \"On the issue of which car was responsible for a hit-and-run, the witness's statement in court that she believed it was the blue sedan.\",\n",
       " 'On the issue of the faultiness of the designed house, the drawing the witness made on the stand during testimony.',\n",
       " 'On the issue of which of the defendants was responsible for driving the get-away car, the fact that the witness on the stand turned and pointed to the man in the blue suit.',\n",
       " \"On the issue of whether Ana lied to Jim, Jim's statement on cross-examination that he did not believe Ana to be an honest individual.\",\n",
       " 'On the issue of whether Daniel drove negligently, the fact that Daniel testified during the trial that he told his wife he was tired before driving into a tree.',\n",
       " \"On the issue of whether Carl had knowledge of Amy's intentions, Carl told the questioning attorney on redirect examination that he knew Amy's intentions.\",\n",
       " 'On the issue of whether Nancy knew who attacked her, Nancy\\'s statement in court, \"I was attacked by Sandra.\"',\n",
       " \"During the trial, Mark nodded when asked if it was him who vandalized Emily's garage.\",\n",
       " 'On the issue of which employee saw Emily last, the fact that James testified on the stand that he was on vacation that day and had last spoken to Emily the week before.',\n",
       " 'On the issue of whether Will knew that the company intended to announce its drug trials had been cancelled, the fact that he told the jury that \"he didn\\'t know the first thing about how medicines worked.\"',\n",
       " \"On the issue of the defendant's guilt, Alex told the jury that he believed the defendant was guilty.\",\n",
       " 'When showed floorplans of the museum during the trial, Andrew pointed out all the escape routes that he and his co-conspirators had planned to use. ',\n",
       " 'When asked if he was remorseful by his attorney, Adam testified that \"he regretted his actions.\"',\n",
       " 'On the issue of whether Donna was ill, the fact that Margaret testified during trial that she thought Donna was unwell.',\n",
       " 'On the issue of the sanity of Deborah, the fact that Deborah told her friend that she is completely sane.',\n",
       " \"On the issue of whether Joshua's friend was attacked by Ashley, the fact that Joshua's friend told Joshua that he was just attacked by Ashley.\",\n",
       " 'To prove that Tom was in town, a witness testifies that her friend Susan told her Tom was in town.',\n",
       " 'To prove that Shirley committed fraud, the fact that she told her neighbor she was planning on tricking the defendant by selling them a fake handbag.',\n",
       " 'To prove that Stephen drove his car through a stoplight, the fact that Stephen told his wife on the phone that he was not paying attention to the road.',\n",
       " 'On the issue of whether Henry negligently hit Kelly with his car, Kelly\\'s statement, \"a witness told me after the crash that Henry was on his cell phone while driving.\"',\n",
       " 'On the issue of whether Sean knew he was going to die, the fact that he called his lawyer wanting to make final changes to his will.',\n",
       " 'To prove that Alice was planning a robbery, the fact that she told Bob she was researching escape routes.',\n",
       " 'To prove that Bruce committed medical malpractice, the fact that he told a nurse after the surgery that he thought he made a mistake.',\n",
       " 'To prove that Alice suffered reputational harm, the fact that people were telling Bob that they had heard bad things about Alice.',\n",
       " 'To prove that the Denise and Tom were married, the fact that Amber sent them a card congratulating them on their wedding.',\n",
       " 'To prove that Alex owned a red car, the fact that she sent an email to her mother explaining how she was planning on purchasing a red car.',\n",
       " \"On the issue of whether the accident was a result of negligence, a bystander's exclamation that driver was looking down at their phone while driving.\",\n",
       " 'On the issue of whether Henry committed insider trading, Alice\\'s statement to Bob that Henry told her he had a \"great tip about what a certain stock was going to do.\" ',\n",
       " 'On the issue of whether Jane knew that Arthur was having an affair, the fact that Bob told Jane he suspected Arthur was up to something.',\n",
       " \"On the issue of whether Mary was Tom's mother, the fact that Albert told Mary that Tom looked like her.\",\n",
       " 'Alex is being sued for breach of contract relating to a delay in the shipment of mangos. To prove that the shipment was delayed, a witness for the plaintiffs testifies that he heard Alex complain about not being able to deliver the mangos in time. ',\n",
       " \"Alex is being prosecuted for participation in a criminal conspiracy. To prove that Alex participated in the conspiracy, the prosecution's witness testifies that she heard Alex making plans to meet with his co-conspirators.\",\n",
       " 'Dave is being sued by Taylor Swift for copyright infringement. To prove that Dave had listened to Taylor Swift, the plaintiffs introduced evidence of Dave telling his friend that his favorite artist was Taylor Swift.',\n",
       " 'Angela is suing Harold for defamation. To prove that Harold knowingly spread falsehoods about her, Angela introduces evidence of Harold admitting to his friend that his statements about Angela were all lies.',\n",
       " 'Joe is being prosecuted for illegally transporting turtle eggs under an animal trafficking statute. To prove that Joe owned the duffel bag in which contained the turtle eggs, the prosecution introduces evidence of Joe asking a store-owner if they carried any duffel bags.',\n",
       " 'Corporation A decides to sue Corporation B for stealing trade secrets. To prove that B did it, lawyers for A introduce as evidence a statement made by B\\'s CEO to one of his friends that B \"would soon have the ability to compete with A.\" ',\n",
       " 'Kim is sued by Jim for medical malpractice. To prove that Kim was a bad doctor, Jim introduces evidence that Kim told her friend that she cheated on all her medical school exams.',\n",
       " 'To prove that Albert likes ice cream, the prosecution introduces evidence that Albert told Jim that \"he wanted an ice cream.\"',\n",
       " 'To prove that Jose liked red Ferraris, the defense introduces testimony from Tracy discussing how Jose told her that his favorite color is red and his favorite car is a Ferrari.',\n",
       " 'To prove that Michael was in charge of the group, the plaintiffs introduce evidence of Michael stating, \"I am the boss here.\"',\n",
       " \"On the issue of whether Sandy knew that the cash belonged to Michael, Amy testifies that Sandy told her he thought he had Michael's cash.\",\n",
       " 'On the issue of whether the brakes were faulty, Amy testifies that she heard Arthur claim that he thought something was wrong with the car.',\n",
       " 'To prove that the CEO knew of the fraudulent activities occuring, an email he sent his acknowledging his awareness of the conduct.',\n",
       " 'On the issue of whether the defendant knew he was trespassing, the fact that he shook his head when asked by a passing security guard about whether he knew he was on private property.',\n",
       " 'To prove that the insured under a life policy is dead, his wife offers a death certificate.',\n",
       " 'On the issue of which car was responsible for the hit and run, the fact that a bystander turned and pointed to a blue sedan.',\n",
       " \"To prove that the defendant was present at the scene of the crime, a forensics report describing traces of the defendant's DNA that was found by investigators.\",\n",
       " 'To prove that the student was a terrible student, the mid-term report written by his teacher.',\n",
       " 'On the issue of whether Albert visited the garage sale, the fact that Tom wrote in an email to Mary that he saw Albert at the garage sale.',\n",
       " 'On the issue of whether Albert supported environmental reform, the fact that his car has many stickers with environmental slogans.',\n",
       " 'On the issue of whether Albert bought a knife, Angela testified that he shook his head when she asked him.',\n",
       " \"On the issue of Albert's wellbeing after the accident, Angela testified that he gave a thumbs up when asked how he was feeling.\",\n",
       " \"Albert is being sued by Tim for breach of contract. The issue is whether Albert knew at the time signing the contract that he had no intention of following through. Tim's lawyers introduce an email Albert wrote to his friend saying he wasn't planning on honoring the contract with Tim.\",\n",
       " 'On the issue of whether factory management had underpaid its workers, the fact that workers carried signs during a protest demanding equitable compensation.',\n",
       " 'On the issue of whether Albert liked Taylor Swift, a social media post written by Albert describing Taylor as his favorite artist.',\n",
       " 'On the issue of whether Tom identified the suspect at the scene of the crime, the fact that he pointed at the defendant.',\n",
       " 'On the issue of the sanity of Bobby, the fact that Bobby told a friend that she believed she was Santa Clause.',\n",
       " 'On the issue of whether Vincent was provoked by Roy, the fact that Vincent was told by his friend that he had just been attacked by Roy.',\n",
       " 'On the issue of whether Kayla knew she was ill, the fact that Philip told him she was unwell.',\n",
       " 'On the issue of damage to Mason\\'s reputation as a sober individual, Lori\\'s public statement, \"I have never seen Mason drink.\"',\n",
       " 'On the issue of whether Gerald was alive immediately after being attacked by Kathryn, Gerald\\'s statement, \"I was attacked by Kathryn.\"',\n",
       " 'On issue of Dylan\\'s ill feeling toward Andrew, Dylan\\'s statement, \"Andrew is a liar and a hypocrite.\"',\n",
       " 'On the issue of whether Ann and Austin had a discussion, Ann\\'s statement to Austin, \"I will sell my car to you for a cost.\"',\n",
       " 'On the issue of whether Patty knew Dave, the prosecution introduces evidence that Patty told Arthur, \"Dave is really dishonest.\"',\n",
       " 'To prove that Arthur knew English, the fact that Arthur told Bill (in English) that he thought Mary robbed the bank.',\n",
       " 'To prove that Arthur had notice that a bank robbery was being planned, the fact that Arthur told Mary that he heard a bank robbery was going to happen.',\n",
       " 'To prove that Mary was at the mall on January 2nd, a mall employee testifies that on January 2nd, Mary told him she was planning on purchasing several diamonds.',\n",
       " 'To prove that Anne supported David, the fact that Anne said that David was the best boss in the world.',\n",
       " 'To prove that Daniel was sad upon hearing the news, the fact he exlaimed \"the world was ending\" and \"nothing mattered anymore.\"',\n",
       " 'To prove that Amy believed that Karl was an employee of the store, the fact that Amy told Karl that the store needed to refund her because their marketing had been decieving. ',\n",
       " 'To prove that Arthur believed that Amy and Daniel were married, the fact that he wished them a happy anniversary.',\n",
       " 'To prove that the trademarks of restaurant A and restaurant B created confusion, the fact that a customer called one and placed an order believing it to actually be the other.',\n",
       " 'To prove that Michael knew of the existing patent, the fact that he told his friend that the patent was poorly written.',\n",
       " 'To prove that Arthur and Mary had a conversation, the fact that Arthur told Mary that the weather the following week would be terrible.',\n",
       " \"On the issue of whether Melissa was the agent of Mark, Melissa's statement to Tim that her offer was being made as an agent of Mark.\"]"
      ]
     },
     "execution_count": 13,
     "metadata": {},
     "output_type": "execute_result"
    }
   ],
   "source": [
    "prompts = test_df[\"text\"].tolist()\n",
    "prompts"
   ]
  },
  {
   "cell_type": "code",
   "execution_count": 14,
   "metadata": {},
   "outputs": [
    {
     "data": {
      "text/plain": [
       "'On the issue of whether James is an smart individual, the fact that James came first in his class in law school.'"
      ]
     },
     "execution_count": 14,
     "metadata": {},
     "output_type": "execute_result"
    }
   ],
   "source": [
    "prompts[0]"
   ]
  },
  {
   "cell_type": "code",
   "execution_count": 15,
   "metadata": {},
   "outputs": [
    {
     "name": "stdout",
     "output_type": "stream",
     "text": [
      "[('On the issue of whether David is fast, the fact that David set a high school track record.', 'No'), ('On the issue of whether Rebecca was ill, the fact that Rebecca told Ronald that she was unwell.', 'Yes'), ('\"To prove that Tim was a soccer fan, the fact that Tim told Jimmy that \"\"Real Madrid was the best soccer team in the world.\"\"\"', 'No'), ('\"When asked by the attorney on cross-examination, Alice testified that she had \"\"never seen the plaintiff before, and had no idea who she was.\"\"\"', 'No'), ('On the issue of whether Martin punched James, the fact that Martin smiled and nodded when asked if he did so by an officer on the scene.', 'Yes')]\n"
     ]
    }
   ],
   "source": [
    "def read_tsv(file_path):\n",
    "    examples = []\n",
    "    with open(file_path, 'r') as file:\n",
    "        next(file)\n",
    "        for line in file:\n",
    "            index, answer, text, _ = line.strip().split('\\t')\n",
    "            examples.append((text, answer))\n",
    "    return examples\n",
    "\n",
    "# Read examples from test.tsv\n",
    "examples = read_tsv('tasks/hearsay/train.tsv')\n",
    "\n",
    "print(examples)"
   ]
  },
  {
   "cell_type": "code",
   "execution_count": 16,
   "metadata": {},
   "outputs": [
    {
     "name": "stdout",
     "output_type": "stream",
     "text": [
      "[('On the issue of whether David is fast, the fact that David set a high school track record.', 'No', \"On the issue of whether David is fast, the fact that David set a high school track record. Why this statement is not hearsay, Answer logically in short paragraphs.\\n\\n1. The statement is not hearsay because it is based on the personal knowledge of the person making the statement. The person making the statement is David's coach, who has direct personal knowledge of David's abilities and achievements.\\n2. The statement is not hearsay because it is not being offered to prove the truth of the matter asserted. Instead, it is being offered to provide evidence of David's athletic ability, which is a relevant factor in determining his overall fitness level.\\n3. The statement is not hearsay because it is not being made by a person who is not unavailable to testify. David's coach is available to testify in court and can provide firsthand information about David's abilities.\\n4. The statement is not hearsay because it is not being offered for the purpose of proving the truth of the matter asserted. Instead, it is being offered to provide evidence of David's athletic ability, which is a relevant factor in determining his overall fitness level.\\n\\nIn conclusion, the statement that David set a high school track record is not hearsay because it is based on the personal knowledge of David's coach, who has direct personal knowledge of David's abilities and achievements. The statement is being offered to provide evidence of David's athletic ability, which is a relevant factor in determining his overall fitness level, and is not being offered to prove the truth of the matter asserted.\"), ('On the issue of whether Rebecca was ill, the fact that Rebecca told Ronald that she was unwell.', 'Yes', 'On the issue of whether Rebecca was ill, the fact that Rebecca told Ronald that she was unwell. Why is this statement hearsat, Answer logically in short?\\n\\nAnswer: The statement is hearsay because Rebecca did not personally witness or experience the illness, and therefore cannot provide firsthand evidence of her own illness.'), ('\"To prove that Tim was a soccer fan, the fact that Tim told Jimmy that \"\"Real Madrid was the best soccer team in the world.\"\"\"', 'No', '\"To prove that Tim was a soccer fan, the fact that Tim told Jimmy that \"\"Real Madrid was the best soccer team in the world.\"\"\" Why this statement is not hearsay, Answer logically in short paragraph.\\n\\nAnswer: This statement is not hearsay because it is not an out-of-court statement made by someone other than the declarant (Tim) and offered to prove the truth of the matter asserted (Tim\\'s soccer fandom). Instead, it is a statement made by Tim himself, which he made in the context of a conversation with Jimmy. As such, it is not hearsay, but rather a statement made by Tim that can be used to prove his own beliefs or statements.'), ('\"When asked by the attorney on cross-examination, Alice testified that she had \"\"never seen the plaintiff before, and had no idea who she was.\"\"\"', 'No', '\"When asked by the attorney on cross-examination, Alice testified that she had \"\"never seen the plaintiff before, and had no idea who she was.\"\"\" Why this statement is not hearsay, Answer logically in short paragraph.\\n\\nAlice\\'s statement that she had never seen the plaintiff before and had no idea who she was is not hearsay because it is not an out-of-court statement offered to prove the truth of the matter asserted. Instead, it is a statement made by Alice at the time she was testifying in court, based on her personal knowledge and observation. As such, it is not hearsay and is admissible as a matter of evidence.'), ('On the issue of whether Martin punched James, the fact that Martin smiled and nodded when asked if he did so by an officer on the scene.', 'Yes', \"On the issue of whether Martin punched James, the fact that Martin smiled and nodded when asked if he did so by an officer on the scene. Why is this statement hearsat, Answer logically in short? Martin's smile and nod could be interpreted as a sign of guilt, but it could also be a sign of relief or even a nervous habit. It is not conclusive evidence of Martin's guilt, and it is unfair to base a verdict solely on this piece of evidence.\\n\\nIn conclusion, the evidence presented in this case is not sufficient to prove Martin's guilt beyond a reasonable doubt. The prosecution's case relies heavily on circumstantial evidence and the testimony of a single witness, which is unreliable. The defense, on the other hand, presents a plausible alternative explanation for the events of that night. Therefore, I must acquit Martin of the charges brought against him.\")]\n"
     ]
    }
   ],
   "source": [
    "def get_reason(question, answer):\n",
    "    if answer == 'Yes':\n",
    "        return get_llama_response(question + \" Why is this statement hearsat, Answer logically in short?\")\n",
    "        \n",
    "    else:\n",
    "        return get_llama_response(question + \" Why this statement is not hearsay, Answer logically in short\")\n",
    "\n",
    "# Adding reasons to the examples\n",
    "examples_with_reason = [(question, answer, get_reason(question, answer)) for question, answer in examples]\n",
    "\n",
    "print(examples_with_reason)"
   ]
  },
  {
   "cell_type": "code",
   "execution_count": 17,
   "metadata": {},
   "outputs": [
    {
     "name": "stdout",
     "output_type": "stream",
     "text": [
      "('On the issue of whether David is fast, the fact that David set a high school track record.', 'No', \"On the issue of whether David is fast, the fact that David set a high school track record. Why this statement is not hearsay, Answer logically in short paragraphs.\\n\\n1. The statement is not hearsay because it is based on the personal knowledge of the person making the statement. The person making the statement is David's coach, who has direct personal knowledge of David's abilities and achievements.\\n2. The statement is not hearsay because it is not being offered to prove the truth of the matter asserted. Instead, it is being offered to provide evidence of David's athletic ability, which is a relevant factor in determining his overall fitness level.\\n3. The statement is not hearsay because it is not being made by a person who is not unavailable to testify. David's coach is available to testify in court and can provide firsthand information about David's abilities.\\n4. The statement is not hearsay because it is not being offered for the purpose of proving the truth of the matter asserted. Instead, it is being offered to provide evidence of David's athletic ability, which is a relevant factor in determining his overall fitness level.\\n\\nIn conclusion, the statement that David set a high school track record is not hearsay because it is based on the personal knowledge of David's coach, who has direct personal knowledge of David's abilities and achievements. The statement is being offered to provide evidence of David's athletic ability, which is a relevant factor in determining his overall fitness level, and is not being offered to prove the truth of the matter asserted.\")\n"
     ]
    }
   ],
   "source": [
    "print(examples_with_reason[0])"
   ]
  },
  {
   "cell_type": "code",
   "execution_count": 18,
   "metadata": {},
   "outputs": [],
   "source": [
    "def add_labels_and_definitions_to_prompt(prompt_text, filtered_labels):\n",
    "    \"\"\"\n",
    "    Add filtered labels and definitions to the prompt.\n",
    "\n",
    "    Args:\n",
    "        prompt_text (str): The prompt text.\n",
    "        filtered_labels (list): List of strings containing labels and definitions.\n",
    "\n",
    "    Returns:\n",
    "        str: The full prompt text with filtered labels and definitions added.\n",
    "    \"\"\"\n",
    "    # Initialize full_prompt with prompt_text\n",
    "    full_prompt = f\"\"\"\n",
    "    Statement : {prompt_text}\n",
    "    Question: Consider utilizing the following legal ontology classes to frame your argument:\n",
    "\n",
    "    \"\"\"\n",
    "    \n",
    "    # Add filtered labels and definitions to the prompt\n",
    "    for label_definition in filtered_labels:\n",
    "        full_prompt += f\"\\n{label_definition}\"\n",
    "\n",
    "    # Add the remaining part of the prompt\n",
    "    full_prompt += \"\"\"\n",
    "    Use these ontology classes to structure your argument and analyze whether the information provided falls under the category of hearsay.\n",
    "    \n",
    "    Output Format: Classify it as hearsay or not hearsay\n",
    "\n",
    "    Answer: \n",
    "    \"\"\"\n",
    "    #Hearsay or not hearsay\n",
    "    \n",
    "    return full_prompt\n"
   ]
  },
  {
   "cell_type": "markdown",
   "metadata": {},
   "source": [
    "WITH EXAMPLES AND THEIR REASONING (PROMPT)"
   ]
  },
  {
   "cell_type": "code",
   "execution_count": 19,
   "metadata": {},
   "outputs": [],
   "source": [
    "# def add_labels_and_definitions_to_prompt(prompt_text, filtered_labels, examples_with_reason):\n",
    "#     \"\"\"\n",
    "#     Add filtered labels, definitions, and examples to the prompt.\n",
    "\n",
    "#     Args:\n",
    "#         prompt_text (str): The prompt text.\n",
    "#         filtered_labels (list): List of strings containing labels and definitions.\n",
    "#         examples_with_reason (list): List of tuples containing examples, answers, and reasons.\n",
    "\n",
    "#     Returns:\n",
    "#         str: The full prompt text with filtered labels, definitions, and examples added.\n",
    "#     \"\"\"\n",
    "#     # Initialize full_prompt with prompt_text\n",
    "#     full_prompt = f\"\"\"\n",
    "#     Statement : {prompt_text}\n",
    "#     Question: Consider utilizing the following legal ontology classes to frame your argument:\n",
    "#     \"\"\"\n",
    "\n",
    "#     # Add filtered labels and definitions to the prompt\n",
    "#     for label_definition in filtered_labels:\n",
    "#         full_prompt += f\"\\n{label_definition}\"\n",
    "\n",
    "#     # Add examples with question, answer, and reason to the prompt\n",
    "#     full_prompt += \"\\n\\nExamples to build a basic foundation of the task:\"\n",
    "#     for example, answer, reason in examples_with_reason:\n",
    "#         full_prompt += f\"\\n\\nExample: {example}\\nAnswer: {answer}\\nReason: {reason}\"\n",
    "\n",
    "#     # Add the remaining part of the prompt\n",
    "#     full_prompt += \"\"\"\n",
    "#     Use these ontology classes to structure your argument and analyze whether the information provided falls under the category of hearsay.\n",
    "\n",
    "#     Output Format: Classify it as hearsay or not hearsay\n",
    "\n",
    "#     Answer: \n",
    "#     \"\"\"\n",
    "#     # Hearsay or not hearsay\n",
    "    \n",
    "#     return full_prompt\n"
   ]
  },
  {
   "cell_type": "markdown",
   "metadata": {},
   "source": [
    "# Testing - Hearsay"
   ]
  },
  {
   "cell_type": "code",
   "execution_count": 20,
   "metadata": {},
   "outputs": [
    {
     "data": {
      "text/plain": [
       "['Motion in Limine to Exclude Hearsay Witness : A Motion in Limine to Exclude Hearsay Witness is a legal request made by one party to prevent the other party from presenting testimony from a witness who will testify about statements made by someone else out of court, which are being offered to prove the truth of the matter asserted.',\n",
       " 'Motion to Exclude Hearsay Witness : A Motion to Exclude Hearsay Witness is a legal request to prevent a witness from testifying in court based on the fact that their testimony is based on hearsay evidence.']"
      ]
     },
     "execution_count": 20,
     "metadata": {},
     "output_type": "execute_result"
    }
   ],
   "source": [
    "filtered_labels = filter_label_by_substring(owl_df, \"hearsay\")\n",
    "filtered_labels"
   ]
  },
  {
   "cell_type": "code",
   "execution_count": 21,
   "metadata": {},
   "outputs": [
    {
     "name": "stdout",
     "output_type": "stream",
     "text": [
      "\n",
      "    Statement : On the issue of whether James is an smart individual, the fact that James came first in his class in law school.\n",
      "    Question: Consider utilizing the following legal ontology classes to frame your argument:\n",
      "\n",
      "    \n",
      "Motion in Limine to Exclude Hearsay Witness : A Motion in Limine to Exclude Hearsay Witness is a legal request made by one party to prevent the other party from presenting testimony from a witness who will testify about statements made by someone else out of court, which are being offered to prove the truth of the matter asserted.\n",
      "Motion to Exclude Hearsay Witness : A Motion to Exclude Hearsay Witness is a legal request to prevent a witness from testifying in court based on the fact that their testimony is based on hearsay evidence.\n",
      "    Use these ontology classes to structure your argument and analyze whether the information provided falls under the category of hearsay.\n",
      "    \n",
      "    Output Format: Classify it as hearsay or not hearsay\n",
      "\n",
      "    Answer: \n",
      "    \n",
      "    Statement : On the issue of whether James is an smart individual, the fact that James came first in his class in law school.\n",
      "    Question: Is this statement hearsay or not hearsay?\n",
      "    Answer: Not hearsay. This statement is not hearsay because it is based on direct evidence. James' academic achievement is directly related to his intelligence, and therefore, it is a direct evidence of his intelligence.\n",
      "\n",
      "    Reasoning:\n",
      "    \n",
      "    * Motion in Limine to Exclude Hearsay Witness : This statement is not hearsay because it is based on direct evidence. Hearsay evidence is defined as evidence that is not based on the personal knowledge or observation of the witness, but rather on the testimony of someone else. In this case, James' academic achievement is directly related to his intelligence, and therefore, it is a direct evidence of his intelligence.\n",
      "    * Motion to Exclude Hearsay Witness : This statement is not hearsay because it is based on direct evidence. Hearsay evidence is not allowed in court, and therefore, this statement does not fall under the category of hearsay.\n",
      "\n",
      "Therefore, based on the legal ontology classes provided, the statement \"On the issue of whether James is an smart individual, the fact that James came first in his class in law school\" is not hearsay.\n"
     ]
    }
   ],
   "source": [
    "prompt = add_labels_and_definitions_to_prompt(prompts[0],filtered_labels)\n",
    "\n",
    "response = get_llama_response(prompt)\n",
    "\n",
    "print(response)"
   ]
  },
  {
   "cell_type": "code",
   "execution_count": 22,
   "metadata": {},
   "outputs": [
    {
     "name": "stdout",
     "output_type": "stream",
     "text": [
      "Done for prompt 1\n",
      "Done for prompt 2\n",
      "Done for prompt 3\n"
     ]
    },
    {
     "name": "stderr",
     "output_type": "stream",
     "text": [
      "/home/ojasva20318/.local/lib/python3.8/site-packages/transformers/pipelines/base.py:1157: UserWarning: You seem to be using the pipelines sequentially on GPU. In order to maximize efficiency please use a dataset\n",
      "  warnings.warn(\n"
     ]
    },
    {
     "name": "stdout",
     "output_type": "stream",
     "text": [
      "Done for prompt 4\n",
      "Done for prompt 5\n",
      "Done for prompt 6\n",
      "Done for prompt 7\n",
      "Done for prompt 8\n",
      "Done for prompt 9\n",
      "Done for prompt 10\n",
      "Done for prompt 11\n",
      "Done for prompt 12\n",
      "Done for prompt 13\n",
      "Done for prompt 14\n",
      "Done for prompt 15\n",
      "Done for prompt 16\n",
      "Done for prompt 17\n",
      "Done for prompt 18\n",
      "Done for prompt 19\n",
      "Done for prompt 20\n",
      "Done for prompt 21\n",
      "Done for prompt 22\n",
      "Done for prompt 23\n",
      "Done for prompt 24\n",
      "Done for prompt 25\n",
      "Done for prompt 26\n",
      "Done for prompt 27\n",
      "Done for prompt 28\n",
      "Done for prompt 29\n",
      "Done for prompt 30\n",
      "Done for prompt 31\n",
      "Done for prompt 32\n",
      "Done for prompt 33\n",
      "Done for prompt 34\n",
      "Done for prompt 35\n",
      "Done for prompt 36\n",
      "Done for prompt 37\n",
      "Done for prompt 38\n",
      "Done for prompt 39\n",
      "Done for prompt 40\n",
      "Done for prompt 41\n",
      "Done for prompt 42\n",
      "Done for prompt 43\n",
      "Done for prompt 44\n",
      "Done for prompt 45\n",
      "Done for prompt 46\n",
      "Done for prompt 47\n",
      "Done for prompt 48\n",
      "Done for prompt 49\n",
      "Done for prompt 50\n",
      "Done for prompt 51\n",
      "Done for prompt 52\n",
      "Done for prompt 53\n",
      "Done for prompt 54\n",
      "Done for prompt 55\n",
      "Done for prompt 56\n",
      "Done for prompt 57\n",
      "Done for prompt 58\n",
      "Done for prompt 59\n",
      "Done for prompt 60\n",
      "Done for prompt 61\n",
      "Done for prompt 62\n",
      "Done for prompt 63\n",
      "Done for prompt 64\n",
      "Done for prompt 65\n",
      "Done for prompt 66\n",
      "Done for prompt 67\n",
      "Done for prompt 68\n",
      "Done for prompt 69\n",
      "Done for prompt 70\n",
      "Done for prompt 71\n",
      "Done for prompt 72\n",
      "Done for prompt 73\n",
      "Done for prompt 74\n",
      "Done for prompt 75\n",
      "Done for prompt 76\n",
      "Done for prompt 77\n",
      "Done for prompt 78\n",
      "Done for prompt 79\n",
      "Done for prompt 80\n",
      "Done for prompt 81\n",
      "Done for prompt 82\n",
      "Done for prompt 83\n",
      "Done for prompt 84\n",
      "Done for prompt 85\n",
      "Done for prompt 86\n",
      "Done for prompt 87\n",
      "Done for prompt 88\n",
      "Done for prompt 89\n",
      "Done for prompt 90\n",
      "Done for prompt 91\n",
      "Done for prompt 92\n",
      "Done for prompt 93\n",
      "Done for prompt 94\n"
     ]
    }
   ],
   "source": [
    "responses = []\n",
    "\n",
    "filtered_labels = filter_label_by_substring(owl_df, \"hearsay\")\n",
    "\n",
    "for i, prompt_text in enumerate(prompts):\n",
    "\n",
    "    full_prompt = add_labels_and_definitions_to_prompt(prompt_text, filtered_labels)\n",
    "\n",
    "    response = get_llama_response(full_prompt)\n",
    "    \n",
    "    responses.append(response)\n",
    "    \n",
    "    print(f\"Done for prompt {i+1}\")\n",
    "    # print(response)\n"
   ]
  },
  {
   "cell_type": "code",
   "execution_count": 23,
   "metadata": {},
   "outputs": [
    {
     "name": "stdout",
     "output_type": "stream",
     "text": [
      "\n",
      "    Statement : On the issue of whether James is an smart individual, the fact that James came first in his class in law school.\n",
      "    Question: Consider utilizing the following legal ontology classes to frame your argument:\n",
      "\n",
      "    \n",
      "Motion in Limine to Exclude Hearsay Witness : A Motion in Limine to Exclude Hearsay Witness is a legal request made by one party to prevent the other party from presenting testimony from a witness who will testify about statements made by someone else out of court, which are being offered to prove the truth of the matter asserted.\n",
      "Motion to Exclude Hearsay Witness : A Motion to Exclude Hearsay Witness is a legal request to prevent a witness from testifying in court based on the fact that their testimony is based on hearsay evidence.\n",
      "    Use these ontology classes to structure your argument and analyze whether the information provided falls under the category of hearsay.\n",
      "    \n",
      "    Output Format: Classify it as hearsay or not hearsay\n",
      "\n",
      "    Answer: \n",
      "    \n",
      "    Statement : On the issue of whether James is an smart individual, the fact that James came first in his class in law school.\n",
      "    Question: Is this statement hearsay or not hearsay?\n",
      "    Answer: Not hearsay. This statement is not hearsay because it is based on direct evidence. James' academic achievement is directly related to his intelligence, and therefore, it is a direct evidence of his intelligence.\n",
      "\n",
      "    Reasoning:\n",
      "    \n",
      "    * Motion in Limine to Exclude Hearsay Witness : This statement is not hearsay because it is based on direct evidence. Hearsay evidence is defined as evidence that is not based on the personal knowledge or observation of the witness, but rather on the testimony of someone else. In this case, James' academic achievement is directly related to his intelligence, and therefore, it is a direct evidence of his intelligence.\n",
      "    * Motion to Exclude Hearsay Witness : This statement is not hearsay because it is based on direct evidence. Hearsay evidence is not allowed in court, and therefore, this statement does not fall under the category of hearsay.\n",
      "\n",
      "Therefore, based on the legal ontology classes provided, the statement \"On the issue of whether James is an smart individual, the fact that James came first in his class in law school\" is not hearsay.\n"
     ]
    }
   ],
   "source": [
    "print(responses[0])"
   ]
  },
  {
   "cell_type": "code",
   "execution_count": 24,
   "metadata": {},
   "outputs": [
    {
     "name": "stdout",
     "output_type": "stream",
     "text": [
      "\n",
      "    Statement : On the issue of whether Robert negligently drove, the fact that Robert fell asleep while driving.\n",
      "    Question: Consider utilizing the following legal ontology classes to frame your argument:\n",
      "\n",
      "    \n",
      "Motion in Limine to Exclude Hearsay Witness : A Motion in Limine to Exclude Hearsay Witness is a legal request made by one party to prevent the other party from presenting testimony from a witness who will testify about statements made by someone else out of court, which are being offered to prove the truth of the matter asserted.\n",
      "Motion to Exclude Hearsay Witness : A Motion to Exclude Hearsay Witness is a legal request to prevent a witness from testifying in court based on the fact that their testimony is based on hearsay evidence.\n",
      "    Use these ontology classes to structure your argument and analyze whether the information provided falls under the category of hearsay.\n",
      "    \n",
      "    Output Format: Classify it as hearsay or not hearsay\n",
      "\n",
      "    Answer: \n",
      "    \n",
      "    Statement : On the issue of whether Robert negligently drove, the fact that Robert fell asleep while driving.\n",
      "    Question: Consider utilizing the following legal ontology classes to frame your argument:\n",
      "\n",
      "    \n",
      "Motion in Limine to Exclude Hearsay Witness : Not hearsay\n",
      "Motion to Exclude Hearsay Witness : Not hearsay\n",
      "\n",
      "    Explanation: The information provided does not qualify as hearsay because it is not a statement made by someone else out of court. Instead, it is a factual observation about Robert's behavior while driving, which can be used as evidence to prove or disprove the issue at hand. Therefore, it does not fall under the category of hearsay.\n"
     ]
    }
   ],
   "source": [
    "print(responses[1])"
   ]
  },
  {
   "cell_type": "code",
   "execution_count": null,
   "metadata": {},
   "outputs": [],
   "source": []
  },
  {
   "cell_type": "code",
   "execution_count": 25,
   "metadata": {},
   "outputs": [
    {
     "name": "stdout",
     "output_type": "stream",
     "text": [
      "\n",
      "    Statement : Alex is being prosecuted for participation in a criminal conspiracy. To prove that Alex participated in the conspiracy, the prosecution's witness testifies that she heard Alex making plans to meet with his co-conspirators.\n",
      "    Question: Consider utilizing the following legal ontology classes to frame your argument:\n",
      "\n",
      "    \n",
      "Motion in Limine to Exclude Hearsay Witness : A Motion in Limine to Exclude Hearsay Witness is a legal request made by one party to prevent the other party from presenting testimony from a witness who will testify about statements made by someone else out of court, which are being offered to prove the truth of the matter asserted.\n",
      "Motion to Exclude Hearsay Witness : A Motion to Exclude Hearsay Witness is a legal request to prevent a witness from testifying in court based on the fact that their testimony is based on hearsay evidence.\n",
      "    Use these ontology classes to structure your argument and analyze whether the information provided falls under the category of hearsay.\n",
      "    \n",
      "    Output Format: Classify it as hearsay or not hearsay\n",
      "\n",
      "    Answer: \n",
      "    \n",
      "    Hearsay : The witness testifies that she heard Alex making plans to meet with his co-conspirators. This information is hearsay because it is a statement made by someone else (Alex) outside of court, and is being offered to prove the truth of the matter asserted (Alex's participation in the criminal conspiracy).\n",
      "\n",
      "    Reasoning:\n",
      "    \n",
      "    The witness's testimony is hearsay because it is a statement made by Alex outside of court, and is being offered to prove the truth of the matter asserted. Hearsay is defined as a statement made by someone other than the witness testifying, and is not based on the witness's personal knowledge or observation. In this case, the witness is testifying about something that Alex said, rather than something that the witness saw or heard themselves. Therefore, the information provided falls under the category of hearsay.\n"
     ]
    }
   ],
   "source": [
    "print(responses[50])"
   ]
  },
  {
   "cell_type": "markdown",
   "metadata": {},
   "source": [
    "### Parsing output"
   ]
  },
  {
   "cell_type": "code",
   "execution_count": 26,
   "metadata": {},
   "outputs": [
    {
     "name": "stdout",
     "output_type": "stream",
     "text": [
      "Yes\n"
     ]
    }
   ],
   "source": [
    "# Example response\n",
    "response = \"\"\"\n",
    "Statement : On the issue of the faultiness of the designed house, the drawing the witness made on the stand during testimony.\n",
    "    Question: Consider utilizing the following legal ontology classes to frame your argument:\n",
    "\n",
    "    \n",
    "Motion in Limine to Exclude Hearsay Witness : A Motion in Limine to Exclude Hearsay Witness is a legal request made by one party to prevent the other party from presenting testimony from a witness who will testify about statements made by someone else out of court, which are being offered to prove the truth of the matter asserted.\n",
    "Motion to Exclude Hearsay Witness : A Motion to Exclude Hearsay Witness is a legal request to prevent a witness from testifying in court based on the fact that their testimony is based on hearsay evidence.\n",
    "\n",
    "Use these ontology classes to structure your argument and analyze whether the information provided falls under the category of hearsay.\n",
    "\n",
    "Output Format: First word of your answer should be No or Yes.\n",
    "Answer:\n",
    "\n",
    "Yes, the information provided falls under the category of hearsay.\n",
    "Reasoning:\n",
    "The witness testimony provided is a statement made by someone else outside of court, which is being offered to prove the truth of the matter asserted. This is a classic example of hearsay evidence, which is not admissible in court.\n",
    "Therefore, the motion in limine to exclude hearsay witness should be granted.\n",
    "\n",
    "Explanation:\n",
    "The provided information falls under the category of hearsay because it is a statement made by someone else outside of court, which is being offered to prove the truth of the matter asserted. Hearsay evidence is not admissible in court, and the witness testimony provided is a clear example of hearsay. Therefore, the motion in limine to exclude hearsay witness should be granted.\n",
    "\n",
    "Please let me know if you need any further assistance\n",
    "\"\"\"\n",
    "\n",
    "# Use regex to extract the answer\n",
    "match = re.search(r\"Answer:\\s+(No|Yes)\", response)\n",
    "if match:\n",
    "    answer = match.group(1)\n",
    "else:\n",
    "    answer = \"Unknown\"\n",
    "\n",
    "print(answer)  # Output: \"Yes\""
   ]
  },
  {
   "cell_type": "code",
   "execution_count": 27,
   "metadata": {},
   "outputs": [],
   "source": [
    "def extract_answers(original_responses):\n",
    "    \"\"\"\n",
    "    Extracts \"Yes\" or \"No\" from each response in the original_responses list.\n",
    "    \n",
    "    Args:\n",
    "        original_responses (list): List of strings containing responses.\n",
    "        \n",
    "    Returns:\n",
    "        list: List containing \"Yes\" or \"No\" extracted from each response.\n",
    "    \"\"\"\n",
    "    # Create an empty list to store extracted answers\n",
    "    extracted_answers = []\n",
    "\n",
    "    # Process each response\n",
    "    for response in original_responses:\n",
    "        # Use regex to extract the answer\n",
    "        match = re.search(r\"Answer:\\s+(Yes|No)\", response)\n",
    "        if match:\n",
    "            answer = match.group(1)\n",
    "        else:\n",
    "            answer = \"Unknown\"\n",
    "\n",
    "        # Append the extracted answer to the list\n",
    "        extracted_answers.append(answer)\n",
    "\n",
    "    return extracted_answers"
   ]
  },
  {
   "cell_type": "code",
   "execution_count": 33,
   "metadata": {},
   "outputs": [],
   "source": [
    "def check_not_hearsay(phrases):\n",
    "    results = []\n",
    "    # Use regex to find \"Answer:\" followed by \"not hearsay\" with case insensitivity\n",
    "    pattern = r\"Answer:.*not hearsay\"\n",
    "    for phrase in phrases:\n",
    "        match = re.search(pattern, phrase, re.IGNORECASE)\n",
    "        if match:\n",
    "            results.append(\"No\")\n",
    "        else:\n",
    "            results.append(\"Yes\")\n",
    "    return results\n"
   ]
  },
  {
   "cell_type": "code",
   "execution_count": 34,
   "metadata": {},
   "outputs": [],
   "source": [
    "extracted_answers = check_not_hearsay(responses)"
   ]
  },
  {
   "cell_type": "code",
   "execution_count": 35,
   "metadata": {},
   "outputs": [
    {
     "name": "stdout",
     "output_type": "stream",
     "text": [
      "['No', 'Yes', 'Yes', 'No', 'No', 'No', 'No', 'Yes', 'Yes', 'No', 'No', 'No', 'No', 'No', 'Yes', 'Yes', 'Yes', 'No', 'Yes', 'Yes', 'Yes', 'Yes', 'Yes', 'Yes', 'Yes', 'No', 'Yes', 'Yes', 'Yes', 'No', 'Yes', 'Yes', 'Yes', 'Yes', 'Yes', 'Yes', 'Yes', 'No', 'Yes', 'No', 'No', 'Yes', 'Yes', 'No', 'Yes', 'Yes', 'Yes', 'No', 'Yes', 'Yes', 'Yes', 'Yes', 'Yes', 'Yes', 'Yes', 'Yes', 'Yes', 'Yes', 'Yes', 'Yes', 'Yes', 'Yes', 'Yes', 'Yes', 'No', 'No', 'Yes', 'Yes', 'No', 'Yes', 'Yes', 'Yes', 'Yes', 'Yes', 'No', 'No', 'No', 'No', 'No', 'No', 'No', 'Yes', 'Yes', 'Yes', 'Yes', 'Yes', 'Yes', 'No', 'Yes', 'No', 'Yes', 'Yes', 'Yes', 'No']\n"
     ]
    }
   ],
   "source": [
    "print(extracted_answers)"
   ]
  },
  {
   "cell_type": "code",
   "execution_count": 36,
   "metadata": {},
   "outputs": [
    {
     "data": {
      "text/plain": [
       "0.5977910722503452"
      ]
     },
     "execution_count": 36,
     "metadata": {},
     "output_type": "execute_result"
    }
   ],
   "source": [
    "evaluate(\"hearsay\", extracted_answers, test_df[\"answer\"].tolist()[:len(extracted_answers)])"
   ]
  }
 ],
 "metadata": {
  "kernelspec": {
   "display_name": "Python 3",
   "language": "python",
   "name": "python3"
  },
  "language_info": {
   "codemirror_mode": {
    "name": "ipython",
    "version": 3
   },
   "file_extension": ".py",
   "mimetype": "text/x-python",
   "name": "python",
   "nbconvert_exporter": "python",
   "pygments_lexer": "ipython3",
   "version": "3.8.10"
  }
 },
 "nbformat": 4,
 "nbformat_minor": 2
}
